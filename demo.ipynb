{
 "cells": [
  {
   "cell_type": "code",
   "execution_count": 35,
   "id": "f055b319",
   "metadata": {},
   "outputs": [
    {
     "name": "stdout",
     "output_type": "stream",
     "text": [
      "{'a': 1}\n"
     ]
    }
   ],
   "source": [
    "import json\n",
    "json_str = \"'{\\\"a\\\":1}'\"\n",
    "\n",
    "dict_data = json.loads(json_str.strip(\"'\"))\n",
    "print(dict_data)  # 输出: {'a': 1}"
   ]
  },
  {
   "cell_type": "code",
   "execution_count": 44,
   "id": "ce8b57c6",
   "metadata": {},
   "outputs": [
    {
     "name": "stdout",
     "output_type": "stream",
     "text": [
      "{'a': 1}\n",
      "<class 'dict'>\n",
      "{'a': 1}\n"
     ]
    }
   ],
   "source": [
    "json_str = '{\"a\":1}'\n",
    "\n",
    "def main(str): \n",
    "    import json  \n",
    "\n",
    "    inner_str = json.loads(str)\n",
    "    # dict_data = json.loads(inner_str.strip(\"'\"))\n",
    "    print(inner_str)\n",
    "    print(type(inner_str))\n",
    "    return inner_str\n",
    "\n",
    "\n",
    "a1 = main(json_str)\n",
    "\n",
    "print(a1)"
   ]
  }
 ],
 "metadata": {
  "kernelspec": {
   "display_name": "llm",
   "language": "python",
   "name": "python3"
  },
  "language_info": {
   "codemirror_mode": {
    "name": "ipython",
    "version": 3
   },
   "file_extension": ".py",
   "mimetype": "text/x-python",
   "name": "python",
   "nbconvert_exporter": "python",
   "pygments_lexer": "ipython3",
   "version": "3.11.5"
  }
 },
 "nbformat": 4,
 "nbformat_minor": 5
}
