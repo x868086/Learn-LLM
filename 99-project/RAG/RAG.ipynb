{
 "cells": [
  {
   "cell_type": "code",
   "execution_count": 2,
   "metadata": {},
   "outputs": [
    {
     "name": "stdout",
     "output_type": "stream",
     "text": [
      "Requirement already satisfied: pdfminer.six in c:\\users\\administrator\\miniconda3\\envs\\llm\\lib\\site-packages (20240706)\n",
      "Requirement already satisfied: charset-normalizer>=2.0.0 in c:\\users\\administrator\\miniconda3\\envs\\llm\\lib\\site-packages (from pdfminer.six) (3.3.2)\n",
      "Requirement already satisfied: cryptography>=36.0.0 in c:\\users\\administrator\\miniconda3\\envs\\llm\\lib\\site-packages (from pdfminer.six) (43.0.1)\n",
      "Requirement already satisfied: cffi>=1.12 in c:\\users\\administrator\\miniconda3\\envs\\llm\\lib\\site-packages (from cryptography>=36.0.0->pdfminer.six) (1.17.1)\n",
      "Requirement already satisfied: pycparser in c:\\users\\administrator\\miniconda3\\envs\\llm\\lib\\site-packages (from cffi>=1.12->cryptography>=36.0.0->pdfminer.six) (2.22)\n"
     ]
    }
   ],
   "source": [
    "# 安装pdfminer\n",
    "!pip install pdfminer.six"
   ]
  },
  {
   "cell_type": "markdown",
   "metadata": {},
   "source": [
    "### 1. pdf页面读取时，保证读取顺序"
   ]
  },
  {
   "cell_type": "code",
   "execution_count": null,
   "metadata": {},
   "outputs": [],
   "source": [
    "import os\n",
    "from pdfminer.high_level import extract_pages\n",
    "from pdfminer.layout import LTTextBox, LTTextLine, LTChar, LTImage\n",
    "\n",
    "\n",
    "# 读取 PDF 文件\n",
    "file_directory = \"not_upload\\\\关于开展公众市场三季度营销活动的通知.pdf\"\n",
    "\n",
    "print(os.getcwd())\n",
    "# 获取当前目录\n",
    "current_directory = os.getcwd()\n",
    "# 获取当前目录的上上层目录\n",
    "grandparent_directory = os.path.abspath(os.path.join(current_directory, \"..\\\\..\"))\n",
    "\n",
    "file_path = os.path.join(grandparent_directory, file_directory)\n",
    "print(file_path)\n",
    "\n",
    "\n",
    "\n",
    "\n",
    "# 定义一个函数来提取并排序文本\n",
    "def extract_and_sort_text(file_path):\n",
    "    all_text = []\n",
    "\n",
    "    # 提取每一页的布局信息\n",
    "    for page_layout in extract_pages(file_path):\n",
    "        # 按位置排序布局元素\n",
    "        print(page_layout)\n",
    "        sorted_elements = sorted(page_layout, key=lambda x: (x.y1, x.x0), reverse=True)\n",
    "        print(sorted_elements)\n",
    "\n",
    "        # 合并文本\n",
    "        current_text = \"\"\n",
    "        for element in sorted_elements:\n",
    "            if isinstance(element, LTTextBox) or isinstance(element, LTTextLine):\n",
    "                current_text += element.get_text().replace(\" \", \"\")\n",
    "            elif isinstance(element, LTImage):\n",
    "                print(\"Image at position:\", element.bbox)\n",
    "\n",
    "        all_text.append(current_text.strip())\n",
    "\n",
    "    return all_text\n",
    "\n",
    "\n",
    "#提取并排序文本\n",
    "all_text = extract_and_sort_text(file_path)\n",
    "\n",
    "# 打印每一页的文本\n",
    "for i, text in enumerate(all_text):\n",
    "    print(f\"Page {i + 1}:\")\n",
    "    print(text)\n",
    "    print(\"\\n\")\n"
   ]
  },
  {
   "cell_type": "markdown",
   "metadata": {},
   "source": [
    "##### 页面元素排序原理解释\n",
    "```python\n",
    "def extract_and_sort_text(file_path):\n",
    "    all_text = []\n",
    "\n",
    "    # 提取每一页的布局信息\n",
    "    for page_layout in extract_pages(file_path):\n",
    "        # 按位置排序布局元素\n",
    "        print(page_layout)\n",
    "        sorted_elements = sorted(page_layout, key=lambda x: (x.y1, x.x0), reverse=True)\n",
    "\n",
    "        # 合并文本\n",
    "        current_text = \"\"\n",
    "        for element in sorted_elements:\n",
    "            if isinstance(element, LTTextBox) or isinstance(element, LTTextLine):\n",
    "                current_text += element.get_text()\n",
    "            elif isinstance(element, LTImage):\n",
    "                print(\"Image at position:\", element.bbox)\n",
    "\n",
    "        all_text.append(current_text.strip())\n",
    "\n",
    "    return all_text\n",
    "```\n",
    "\n",
    "`sorted_elements = sorted(page_layout, key=lambda x: (x.y1, x.x0), reverse=True)` \n",
    "\n",
    "这段代码用来保证读取的pdf文档内容按顺序呈现，通过这种方式排列布局元素的原因有以下几点：\n",
    "1. 在 pdfminer 中，元素坐标系统如下：\n",
    "    - 原点 (0, 0)：位于页面的左下角。\n",
    "    - x 轴：从左向右增加，一直到X轴边界。\n",
    "    - y 轴：从下向上增加，一直到Y轴边界。\n",
    "2. 排序目标\n",
    "    - 首先按照 y1大小顺序， 将元素在Y轴上从上到下排序。reverse=True，即在Y轴方向上从PDF的上边界往Y轴的原点方向排列。\n",
    "    - 当不同元素的y1相同时，则按x0从小到大顺序排列，即在X轴方向从PDF的X轴初始方向往右边界排列。\n",
    "    - 经过以上在X，Y轴方向的排序步骤之后，sorted_elements 列表中存储的元素顺序符合人类查看PDF的习惯，从上到下，从左到右。\n"
   ]
  },
  {
   "cell_type": "code",
   "execution_count": null,
   "metadata": {},
   "outputs": [],
   "source": [
    "# import os\n",
    "# from pdfminer.high_level import extract_pages\n",
    "# from pdfminer.layout import LTTextLine, LTTextBox,LAParams\n",
    "# from collections import Counter\n",
    "\n",
    "# # 读取 PDF 文件\n",
    "# file_directory = \"not_upload\\\\关于开展公众市场三季度营销活动的通知.pdf\"\n",
    "\n",
    "# # 获取当前目录\n",
    "# current_directory = os.getcwd()\n",
    "# print(f\"当前目录: {current_directory}\")\n",
    "\n",
    "# # 获取当前目录的上上层目录\n",
    "# grandparent_directory = os.path.abspath(os.path.join(current_directory, \"..\\\\..\"))\n",
    "# print(f\"上上层目录: {grandparent_directory}\")\n",
    "\n",
    "# # 拼接文件路径\n",
    "# file_path = os.path.join(grandparent_directory, file_directory)\n",
    "# print(f\"文件路径: {file_path}\")\n",
    "\n",
    "# def identify_first_line_indent(page_layout):\n",
    "#     \"\"\"\n",
    "#     识别页面中的首行缩进。\n",
    "#     \"\"\"\n",
    "#     # 筛选文本行\n",
    "#     lines = [obj for obj in page_layout if isinstance(obj, LTTextBox) or isinstance(obj, LTTextLine)]\n",
    "#     print(f\"文本行数量: {len(lines)}\")\n",
    "    \n",
    "#     # 按 y 坐标排序文本行\n",
    "#     lines.sort(key=lambda line: line.bbox[1], reverse=True)\n",
    "    \n",
    "#     indent_results = []\n",
    "    \n",
    "#     # 遍历每一行文本\n",
    "#     for i, line in enumerate(lines):\n",
    "#         # if i == 0:\n",
    "#         #     # 第一行不计算缩进\n",
    "#         #     continue\n",
    "        \n",
    "#         prev_line = lines[i-1]\n",
    "        \n",
    "#         # 计算当前行和前一行的 x 起始位置\n",
    "#         current_x_start = line.bbox[0]\n",
    "#         # prev_x_start = prev_line.bbox[0]\n",
    "#         # # 每页面第一行 x 起始位置\n",
    "#         # prev_x_start = lines[0].bbox[0]\n",
    "#         # 每页面 x轴的起始位置0\n",
    "#         prev_x_start = 0\n",
    "        \n",
    "#         # 计算首行缩进\n",
    "#         indent = current_x_start - prev_x_start\n",
    "        \n",
    "#         indent_results.append((line.get_text().strip(), indent))\n",
    "    \n",
    "#     return indent_results\n",
    "\n",
    "\n",
    "# # 统计页面元素中文本行各种缩进值的个数，取个数最多且缩进值最大缩进值，且不为0\n",
    "# def filter_max_indent(indents):\n",
    "#     indent_counts = Counter(indent for _, indent in indents)\n",
    "#     # for i, count in indent_counts.items():\n",
    "#     #     print(f\"首行缩进: {i:.2f} 像素, 出现次数: {count}\")\n",
    "#     # 将统计出的结果dict，按出现的次数降序排序，即按value排序，item[1]是value\n",
    "#     sorted_itmes_by_value = sorted(indent_counts.items(), key = lambda item:item[1], reverse=True)\n",
    "\n",
    "#     # 取出现频次最高的前三组键值对（已转成tuple）\n",
    "#     max3_items_by_value = sorted_itmes_by_value[:3]\n",
    "\n",
    "#     # 对出现频次最高的前三对键值对（已转成tuple），再按第一个元素降序排序，item[0]是第一个元素\n",
    "#     sorted_itmes_by_key = sorted(max3_items_by_value,key = lambda item:item[0],reverse=True)\n",
    "\n",
    "#     # 取第一个元素最大的tuple对的第一个元素\n",
    "#     indent = sorted_itmes_by_key[0]\n",
    "#     print(f'当前页的缩进值是：{indent}')\n",
    "    \n",
    "\n",
    "# def filter_max_indent2(indents):\n",
    "#     dict1 = Counter(indent for _, indent in indents)\n",
    "#     indent_counts = list(dict1.items())\n",
    "#     # tuples_list = [(237.36,1),(318.24,1),(95.16,3),(343.44,1),(305.88,1),(95.40,1)]\n",
    "\n",
    "#     # 目标差值范围\n",
    "#     min_diff = 29.00\n",
    "#     max_diff = min_diff + 4.00\n",
    "\n",
    "#     # 存储符合条件的tuple组合\n",
    "#     valid_pairs = []\n",
    "\n",
    "#     # 遍历所有可能的tuple组合\n",
    "#     for i in range(len(indent_counts)):\n",
    "#         for j in range(i + 1, len(indent_counts)):\n",
    "#             diff = abs(indent_counts[i][0] - indent_counts[j][0])\n",
    "#             if min_diff <= diff <= max_diff:\n",
    "#                 valid_pairs.append((indent_counts[i][0], indent_counts[j][0]))\n",
    "#                 max_value = max(max(pair) for pair in valid_pairs) if len(valid_pairs)>0 else 0\n",
    "#                 return max_value\n",
    "#                 # max_value = max(max(pair) for pair in valid_pairs)\n",
    "#                 print(f\"当前页的缩进值是: {max_value}\")\n",
    "\n",
    "# # 读取 PDF 页面\n",
    "# for page_layout in extract_pages(file_path, laparams=LAParams()):\n",
    "#     print(f\"页面布局对象: {page_layout}\")\n",
    "    \n",
    "\n",
    "#     # indents = identify_first_line_indent(page_layout)\n",
    "#     sorted_elements = sorted(page_layout, key=lambda x: (x.y1, x.x0), reverse=True)\n",
    "#     indents = identify_first_line_indent(sorted_elements)\n",
    "#     print(f\"首行缩进结果数量: {len(indents)}\")\n",
    "    \n",
    "    \n",
    "#     page_indent_value = filter_max_indent2(indents)\n",
    "#     result_text=[]\n",
    "#     if len(indents) == 0:\n",
    "#         print(\"没有检测到首行缩进。\")\n",
    "#     else:\n",
    "#         for index, (text, indent) in enumerate(indents):\n",
    "#             # if indents[index][1] - indents[index-1][1] > 0:\n",
    "#             #     text = f\"\\t{text}\" \n",
    "#             # filter_max_indent2(indents)\n",
    "#             # indent_counts = Counter(indent for _, indent in indents)\n",
    "#             # for i, count in indent_counts.items():\n",
    "#             #     print(f\"首行缩进: {i:.2f} 像素, 出现次数: {count}\")\n",
    "#             # !!!!!!!!!!!!\n",
    "#             if page_indent_value is not None and page_indent_value >0:\n",
    "#                 if abs(page_indent_value - indent) == 0 or abs(page_indent_value - indent) >=1 :\n",
    "#                     # text = f\"\\t{text}\"\n",
    "#                     # print(f\"文本: '{text}', 首行缩进: {indent:.2f} 像素\")\n",
    "#                     result_text.append(f\"\\t{text}\")\n",
    "#                 else:\n",
    "#                     result_text.append(text)\n",
    "#             else:\n",
    "#                 result_text.append(text)\n",
    "#                 # print(f\"处理后的文本:{result_text}\")\n",
    "#     print(result_text)\n",
    "    \n",
    "#     # 打印每行文本的详细信息\n",
    "#     lines = [obj for obj in page_layout if isinstance(obj, LTTextLine)]\n",
    "#     for line in lines:\n",
    "#         print(f\"文本: '{line.get_text().strip()}', bbox: {line.bbox}\")"
   ]
  },
  {
   "cell_type": "markdown",
   "metadata": {},
   "source": [
    "~~ ### 找出文中文档中每页的段落结构 ~~ \n",
    "~~方案一、使用collections库统计出页面上所有文本行首行缩进的像素值，即各个像素值出现的次数。然后取出现次数最多的像素值（前三），再然后取缩进像素值最大的元素，以还原经过处理后的文本原有的段落结构~~"
   ]
  },
  {
   "cell_type": "code",
   "execution_count": null,
   "metadata": {},
   "outputs": [],
   "source": [
    "# from collections import Counter\n",
    "\n",
    "# abc = [{'a': 3, 'b': 8, 'c': 1, 'd': 12,'e':12,'f':12,'g':1,'h':12,'i':3,'j':99,'k':99,'l':99}]\n",
    "\n",
    "# for k,v in abc[0].items():\n",
    "#     print(k,v)\n",
    "\n",
    "# # 统计字典中各种键的值出现的次数，这里统计的是value即v出现的次数    \n",
    "# cde = Counter(v for k,v in abc[0].items())\n",
    "# print(f'统计字典中值出现的次数 {cde}')\n",
    "\n",
    "# # 将统计出的结果dict，按出现的次数降序排序，即按value排序，item[1]是value\n",
    "# sorted_itmes_by_value = sorted(cde.items(), key = lambda item:item[1], reverse=True)\n",
    "\n",
    "# # 取出现频次最高的前三组键值对（已转成tuple）\n",
    "# max3_items_by_value = sorted_itmes_by_value[:3]\n",
    "\n",
    "# # 对出现频次最高的前三对键值对（已转成tuple），再按第一个元素降序排序，item[0]是第一个元素\n",
    "# sorted_itmes_by_key = sorted(max3_items_by_value,key = lambda item:item[0],reverse=True)\n",
    "\n",
    "# # 取第一个元素最大的tuple对的第一个元素\n",
    "# indent = sorted_itmes_by_key[0]\n",
    "# print(f'按统计结果字典键值对的value降序排序结果，{sorted_itmes_by_value}')\n",
    "# print(f'按第一次排序结果列表中的第一个元素再次降序排序，{sorted_itmes_by_key}')\n",
    "# print(f'取列表中元组第一个元素最大的元组的第一个元素{indent[0]}')"
   ]
  },
  {
   "cell_type": "markdown",
   "metadata": {},
   "source": [
    "~~### 找出文中文档中每页的段落结构~~\n",
    "~~#### 方案二~~\n",
    "~~    1、使用collections库统计出页面上所有文本行首行缩进的像素值，即各个像素值出现的次数。然后取出现次数最多的像素值（前3个），这里3可以作为变量参数，也可以根据实际页面情况调整数值。~~\n",
    "~~    2、在统计结果中，找出首行缩进像素值相差27像素到33像素之间（这里27-33可以根据实际情况调整,左右误差3像素）~~\n",
    "~~    3、在最终的两组结果中，找出缩进值最大的像素值。~~\n",
    "~~    4、遍历每页，判断每行行首缩进是否接近这个最大像素值（左右可以偏差3像素，视实际情况调整），如果接近则认为该行的首部需要缩进，且是段落开始位置。~~\n"
   ]
  },
  {
   "cell_type": "code",
   "execution_count": null,
   "metadata": {},
   "outputs": [],
   "source": [
    "# from collections import Counter\n",
    "\n",
    "# # 每页中各种缩进出现的次数(缩进值,出现的次数)\n",
    "# page1 = [(190.44,1),(104.1,1),(79.44,5),(109.44,8),(470.64,1)]\n",
    "# page2 = [(109.44,4),(79.44,12),(95.40,1),(95.40,1)]\n",
    "# page3 = [(109.44,10),(79.44,13),(111.00,2),(470.64,1)]\n",
    "# page4 = [(79.44,14),(111.00,8),(95.40,1)]\n",
    "# page5 = [(79.44,17),(111.00,5),(158.40,2),(470.64,1)]\n",
    "# page6 = [(237.36,1),(318.24,1),(95.16,3),(343.44,1),(305.88,1),(95.40,1)]\n",
    "# current_page = page1\n",
    "\n",
    "# for k,v in current_page:\n",
    "#     print(k,v)\n",
    "\n",
    "# # 统计字典中各种键的值出现的次数，这里统计的是value即v出现的次数    \n",
    "# # current_array = Counter(v for k,v in current_page)\n",
    "\n",
    "# # # indent_counts = Counter(indent for _, indent in indents)\n",
    "\n",
    "# # print(f'统计字典中值出现的次数 {current_array}')\n",
    "\n",
    "# # 将统计出的结果list，按出现的次数降序排序，即按value排序，item[1]是value\n",
    "# sorted_itmes_by_value = sorted(current_page, key = lambda item:item[1], reverse=True)\n",
    "# print(f'按统计结果字典键值对的value降序排序结果，{sorted_itmes_by_value}')\n",
    "\n",
    "# # 取出现频次最高的前三组键值对（已转成tuple）\n",
    "# max3_items_by_value = sorted_itmes_by_value[:3]\n",
    "# print(f'按第一次排序结果列表中的第一个元素再次降序排序，{sorted_itmes_by_key}')\n",
    "\n",
    "# # # 对出现频次最高的前三对键值对（已转成tuple），再按第一个元素降序排序，item[0]是第一个元素\n",
    "# # sorted_itmes_by_key = sorted(max3_items_by_value,key = lambda item:item[0],reverse=True)\n",
    "\n",
    "# # 取第一个元素最大的tuple对的第一个元素\n",
    "# # indent = sorted_itmes_by_key[0]\n",
    "# # print(f'取列表中元组第一个元素最大的元组的第一个元素{indent[0]}')"
   ]
  },
  {
   "cell_type": "code",
   "execution_count": null,
   "metadata": {
    "tags": [
     "parameters"
    ]
   },
   "outputs": [],
   "source": [
    "# tuples_list = [(237.36,1),(318.24,1),(95.16,3),(343.44,1),(305.88,1),(95.40,1)]\n",
    "\n",
    "# # 目标差值范围\n",
    "# min_diff = 29.00\n",
    "# max_diff = min_diff + 4.00\n",
    "\n",
    "# # 存储符合条件的tuple组合\n",
    "# valid_pairs = []\n",
    "\n",
    "# max_value = 0\n",
    "# # 遍历所有可能的tuple组合\n",
    "# for i in range(len(tuples_list)):\n",
    "#     for j in range(i + 1, len(tuples_list)):\n",
    "#         diff = abs(tuples_list[i][0] - tuples_list[j][0])\n",
    "#         if min_diff <= diff <= max_diff:\n",
    "#             valid_pairs.append((tuples_list[i][0], tuples_list[j][0]))\n",
    "#             if len(valid_pairs) > 0:\n",
    "#                 max_value = max(max(pair) for pair in valid_pairs)\n",
    "#             else:\n",
    "#                 max_value = 0\n",
    "# # 输出结果\n",
    "# print(\"符合条件的tuple组合:\", valid_pairs)\n",
    "# print(\"最大值:\", max_value)"
   ]
  },
  {
   "cell_type": "markdown",
   "metadata": {},
   "source": [
    "### 2. PDF文件分段策略\n",
    "1. 找出当前页的，所有LTTextBoxHorizontal中的x0最小值，和x1最大值，最小值x0就是段落起始位置。\n",
    "2. 当前行x0位置大于起始位置且当前行x0大于上一行x0位置就换行。当前行x0位置和上一行x0位置一样，或者当前行等于起始位置就不做处理。"
   ]
  },
  {
   "cell_type": "code",
   "execution_count": 79,
   "metadata": {},
   "outputs": [
    {
     "name": "stderr",
     "output_type": "stream",
     "text": [
      "The PDF <_io.BufferedReader name='c:\\\\Users\\\\Administrator\\\\Documents\\\\Learn-LLM\\\\not_upload\\\\关于开展公众市场三季度营销活动的通知.pdf'> contains a metadata field indicating that it should not allow text extraction. Ignoring this field and proceeding. Use the check_extractable if you want to raise an error in this case\n"
     ]
    },
    {
     "name": "stdout",
     "output_type": "stream",
     "text": [
      "页面起始位置x0: 79\n",
      "所有页面元素x0 的最小值: 79.44\n",
      "所有页面元素x1 的最大值: 521.8644500000003\n",
      "['联通宜昌营销字〔2024〕31号 关于开展公众市场三季度营销活动的通知各区县分公司：', '三季度是全年承上启下的关键节点，锁定三季度主营收入增长、用户规模净增、发展结构改善的主目标,宜昌分公司决定组织开展公众市场三季度营销活动，具体内容如下：', '一、活动时间2024年7月1日-2024年9月30日二、营销目标全市移网发展7万户，移网净增9534户；宽带发展1.86万户，宽带净增10625户；129元及以上实收高套发展7360户，FTTR发展4600户，奋力实现三季度收入预算完成率75%。', '三、营销部署（一）市场策略1.发展侧']\n"
     ]
    },
    {
     "data": {
      "text/plain": [
       "['联通宜昌营销字〔2024〕31号 关于开展公众市场三季度营销活动的通知各区县分公司：',\n",
       " '三季度是全年承上启下的关键节点，锁定三季度主营收入增长、用户规模净增、发展结构改善的主目标,宜昌分公司决定组织开展公众市场三季度营销活动，具体内容如下：',\n",
       " '一、活动时间2024年7月1日-2024年9月30日二、营销目标全市移网发展7万户，移网净增9534户；宽带发展1.86万户，宽带净增10625户；129元及以上实收高套发展7360户，FTTR发展4600户，奋力实现三季度收入预算完成率75%。',\n",
       " '三、营销部署（一）市场策略1.发展侧']"
      ]
     },
     "execution_count": 79,
     "metadata": {},
     "output_type": "execute_result"
    }
   ],
   "source": [
    "import os\n",
    "from pdfminer.high_level import extract_pages\n",
    "from pdfminer.layout import LTTextContainer\n",
    "from pdfminer.layout import LAParams\n",
    "# 读取 PDF 文件\n",
    "file_directory = \"not_upload\\\\关于开展公众市场三季度营销活动的通知.pdf\"\n",
    "\n",
    "# print(os.getcwd())\n",
    "# 获取当前目录\n",
    "current_directory = os.getcwd()\n",
    "# 获取当前目录的上上层目录\n",
    "grandparent_directory = os.path.abspath(os.path.join(current_directory, \"..\\\\..\"))\n",
    "\n",
    "file_path = os.path.join(grandparent_directory, file_directory)\n",
    "\n",
    "page_numbers = [0]  # 指定提取第1页和第2页\n",
    "\n",
    "laparams = LAParams(\n",
    "    line_overlap=0.5,\n",
    "    char_margin=2.0,\n",
    "    line_margin=0.5,\n",
    "    word_margin=0.1,\n",
    "    boxes_flow=1.0,\n",
    "    detect_vertical=False,\n",
    "    all_texts=False\n",
    ")\n",
    "\n",
    "# 页面提取，元素排序还原\n",
    "def extract_pdf(file_path,page_numbers):\n",
    "    for idx,page_layout in enumerate(extract_pages(file_path,page_numbers=page_numbers)) :\n",
    "        sorted_elements = sorted(page_layout, key=lambda x: (x.y1, x.x0), reverse=True)\n",
    "        element = [element for element in sorted_elements if isinstance(element, LTTextContainer)]\n",
    "        # 去除页面水印信息\n",
    "        text_line = [text_line for text_line in element if text_line.x0>0]\n",
    "        # print(text_line)\n",
    "        return text_line\n",
    "\n",
    "# 找出页面的缩进值\n",
    "def find_current_page_xstart(text_line):\n",
    "    min_x0 = float('inf')\n",
    "    max_x1 = float('-inf')\n",
    "\n",
    "    # 遍历 text_line 列表，更新最小值和最大值\n",
    "    for line in text_line:\n",
    "        if line.x0 < min_x0:\n",
    "            min_x0 = line.x0\n",
    "        if line.x1 > max_x1:\n",
    "            max_x1 = line.x1\n",
    "\n",
    "# 查找满足条件的元素\n",
    "    matching_x0 = None\n",
    "    for line in text_line:\n",
    "        if int(line.x0) == int(min_x0) : # and int(line.x1) == int(max_x1)\n",
    "            matching_x0 = int(line.x0)\n",
    "            break\n",
    "\n",
    "    return matching_x0,min_x0,max_x1\n",
    "\n",
    "text_line = extract_pdf(file_path,page_numbers)\n",
    "matching_x0,min_x0,max_x1 = find_current_page_xstart(text_line)\n",
    "\n",
    "print(f\"页面起始位置x0: {matching_x0}\")\n",
    "print(f\"所有页面元素x0 的最小值: {min_x0}\")\n",
    "print(f\"所有页面元素x1 的最大值: {max_x1}\")\n",
    "\n",
    "\n",
    "# 页面经过处理后的段落\n",
    "paragraphs = []\n",
    "\n",
    "def pdf_segment(text_line,min_line_length=1):\n",
    "    buffer = ''\n",
    "    prev_x0 = 0\n",
    "    for idx,line in enumerate(text_line):\n",
    "        str = line.get_text().replace(' ', '').strip()\n",
    "        # 当前行的x0坐标大于当前页面的起始位置x0,同时当前行的坐标x0大于上一行的x0坐标则换行\n",
    "        if int(line.x0) > matching_x0  and int(line.x0) > prev_x0:\n",
    "            buffer += '\\n' + str\n",
    "        # 当前行的x0坐标等于当前页面的起始位置x0,或者等于上一行的x0坐标则不换行，不添加空格\n",
    "        elif int(line.x0) == matching_x0 or int(line.x0) == prev_x0:\n",
    "            buffer += ('' + str)\n",
    "        else:\n",
    "            buffer += (' ' + str)\n",
    "        prev_x0 = int(line.x0)\n",
    "    \n",
    "    lines = buffer.split('\\n')\n",
    "    for line in lines:\n",
    "        if(len(line)>=min_line_length):\n",
    "            paragraphs.append(line)\n",
    "    print(paragraphs)\n",
    "    return paragraphs\n",
    "\n",
    "pdf_segment(text_line,min_line_length=10)\n"
   ]
  },
  {
   "cell_type": "code",
   "execution_count": null,
   "metadata": {},
   "outputs": [],
   "source": [
    "pip install nltk"
   ]
  },
  {
   "cell_type": "code",
   "execution_count": null,
   "metadata": {},
   "outputs": [],
   "source": [
    "pip install jieba"
   ]
  },
  {
   "cell_type": "code",
   "execution_count": null,
   "metadata": {},
   "outputs": [],
   "source": [
    "import re\n",
    "import jieba\n",
    "import nltk\n",
    "from nltk.corpus import stopwords\n",
    "\n",
    "nltk.download('stopwords')  "
   ]
  },
  {
   "cell_type": "markdown",
   "metadata": {},
   "source": [
    "### 3. 定义中文分词函数，定义去除停用词函数\n",
    "将pdf文档中的段落做清洗，使用jieba分词提取关键词，同时去除停用词，生成关键字字符串序列（使用空格连接），供elasticSearch全文关键字检索策略使用。"
   ]
  },
  {
   "cell_type": "code",
   "execution_count": 44,
   "metadata": {},
   "outputs": [
    {
     "name": "stdout",
     "output_type": "stream",
     "text": [
      "商户 市场 攻坚 一是 健全 商户 队伍 ， 现有 自营 厅 、 社区 店 包圈 渠道 聚焦 周边 500 米 ， 实行 街长制 ， 每条 街 1 位 负责人 ， 支局 落实 所在 镇区 商户 营销 ， 区域 直销 队伍 转型 商客 直拓 队伍 覆盖 。 二是 强化 行销 组织 ， 固定 每周 二 - 周三 商户 营销 日 ， 挂图 作战 到位 ， 定期 更新 作战 进度 ； 信息 摸排 到位 ， 8 月 全量 摸排 ； 分级 营销 到位 ， 落实 营销 三拜 。 三是 加速 转段 升级 ， 区县 9 月底 前 打造 1 条 本地 标杆 街 ， 份额 超 30% ； 区县 每月 1 次 本地 拉练 赛 ， 以赛 代训 沉淀 经验 打法 。\n",
      "['商户市场攻坚一是健全商户队伍，现有自营厅、社区店包圈渠道聚焦周边500米，实行街长制，每条街1位负责人，支局落实所在镇区商户营销，其它区域由直销队伍转型为商客直拓队伍覆盖。', '二是强化行销组织，固定每周二-周三为商户营销日，挂图作战到位，定期更新作战进度；', '信息摸排到位，8月完成全量摸排；', '分级营销到位，落实营销三拜。', '三是加速转段升级，各区县9月底前打造1条本地标杆街，份额超30%；', '区县每月开展1次本地拉练赛，以赛代训沉淀经验和打法。']\n"
     ]
    }
   ],
   "source": [
    "def to_keywords(input_string):\n",
    "    \"\"\"将句子转成检索关键词序列\"\"\"\n",
    "    # 按搜索引擎模式分词\n",
    "    # word_tokens = jieba.lcut_for_search(input_string)\n",
    "    word_tokens = jieba.lcut(input_string)\n",
    "    # 加载停用词表\n",
    "    stop_words = set(stopwords.words('chinese'))\n",
    "    # 去除停用词\n",
    "    filtered_sentence = [w for w in word_tokens if not w in stop_words]\n",
    "    return ' '.join(filtered_sentence)\n",
    "\n",
    "def sent_tokenize(input_string):\n",
    "    \"\"\"按标点断句\"\"\"\n",
    "    # 按标点切分\n",
    "    sentences = re.split(r'(?<=[。！？；?!])', input_string)\n",
    "    # 去掉空字符串\n",
    "    return [sentence for sentence in sentences if sentence.strip()]\n",
    "\n",
    "    \n",
    "if \"__main__\" == __name__:\n",
    "    # 测试关键词提取\n",
    "    # print(to_keywords(\"小明硕士毕业于中 国科学院计算所，后在日本京都大学深造\"))\n",
    "    # # 测试断句\n",
    "    # print(sent_tokenize(\"这是，第一句。这是第二句吗？是的！啊\"))\n",
    "    print(to_keywords(\"商户市场攻坚一是健全商户队伍，现有自营厅、社区店包圈渠道聚焦周边500米，实行街长制，每条街1位负责人，支局落实所在镇区商户营销，其它区域由直销队伍转型为商客直拓队伍覆盖。二是强化行销组织，固定每周二-周三为商户营销日，挂图作战到位，定期更新作战进度；信息摸排到位，8月完成全量摸排；分级营销到位，落实营销三拜。三是加速转段升级，各区县9月底前打造1条本地标杆街，份额超30%；区县每月开展1次本地拉练赛，以赛代训沉淀经验和打法。\"))\n",
    "    print(sent_tokenize(\"商户市场攻坚一是健全商户队伍，现有自营厅、社区店包圈渠道聚焦周边500米，实行街长制，每条街1位负责人，支局落实所在镇区商户营销，其它区域由直销队伍转型为商客直拓队伍覆盖。二是强化行销组织，固定每周二-周三为商户营销日，挂图作战到位，定期更新作战进度；信息摸排到位，8月完成全量摸排；分级营销到位，落实营销三拜。三是加速转段升级，各区县9月底前打造1条本地标杆街，份额超30%；区县每月开展1次本地拉练赛，以赛代训沉淀经验和打法。\"))"
   ]
  },
  {
   "cell_type": "markdown",
   "metadata": {},
   "source": [
    "### 4. 封装prompt模板"
   ]
  },
  {
   "cell_type": "code",
   "execution_count": 56,
   "metadata": {},
   "outputs": [
    {
     "name": "stdout",
     "output_type": "stream",
     "text": [
      "\n",
      "你是一个问答机器人。你的任务是根据以下给定的信息回答用户的提问：\n",
      "\n",
      "已知信息：\n",
      "张三\n",
      "\n",
      "用户的提问:\n",
      "问题1\n",
      "\n",
      "问题2\n",
      "\n",
      "问题3\n",
      "\n"
     ]
    }
   ],
   "source": [
    "\n",
    "prompt_template = \"\"\"\n",
    "你是一个问答机器人。你的任务是根据以下给定的信息回答用户的提问：\n",
    "\n",
    "已知信息：\n",
    "{context}\n",
    "\n",
    "用户的提问:\n",
    "{query}\n",
    "\"\"\"\n",
    "\n",
    "def build_prompt(prompt_template,**kw):\n",
    "    # **kw将传入的关键字参数放在字典中dict\n",
    "    input = {}\n",
    "    # kw.items()将传入的参数转成[('a',1),('b',2)]\n",
    "    for key,value in kw.items():\n",
    "        # 如果参数是list类型，且list的每个成员都是字符串，则在input中记录key，value键值对，value的值是用\\n\\n将list成员拼接起来\n",
    "        if isinstance(value,list) and all([(isinstance(v,str)) for v in value]):\n",
    "            input[key] = '\\n\\n'.join(value)\n",
    "        # 否则，直接记录键值对\n",
    "        else:\n",
    "            input[key] = value\n",
    "    return prompt_template.format(**input)\n",
    "\n",
    "result = build_prompt(prompt_template,context=\"张三\",query=['问题1','问题2','问题3'])\n",
    "print(result)"
   ]
  },
  {
   "cell_type": "markdown",
   "metadata": {},
   "source": [
    "### 5. 封装LLM接口"
   ]
  },
  {
   "cell_type": "code",
   "execution_count": null,
   "metadata": {},
   "outputs": [],
   "source": [
    "pip install openai"
   ]
  },
  {
   "cell_type": "code",
   "execution_count": null,
   "metadata": {},
   "outputs": [],
   "source": [
    "pip install python-dotenv"
   ]
  },
  {
   "cell_type": "code",
   "execution_count": 57,
   "metadata": {},
   "outputs": [
    {
     "data": {
      "text/plain": [
       "'当然！这是一个经典的笑话：\\n\\n有一天，小明问爸爸：“爸爸，长颈鹿的脖子为什么这么长啊？” \\n\\n爸爸想了想说道：“因为头离身体太远了。”'"
      ]
     },
     "execution_count": 57,
     "metadata": {},
     "output_type": "execute_result"
    }
   ],
   "source": [
    "from openai import OpenAI\n",
    "import os\n",
    "# 加载环境变量\n",
    "from dotenv import load_dotenv, find_dotenv\n",
    "\n",
    "file_directory = \".env\"\n",
    "\n",
    "# print(os.getcwd())\n",
    "# 获取当前目录\n",
    "current_directory = os.getcwd()\n",
    "# 获取当前目录的上上层目录\n",
    "grandparent_directory = os.path.abspath(os.path.join(current_directory, \"..\\\\..\"))\n",
    "env_path = os.path.join(grandparent_directory, file_directory)\n",
    "\n",
    "\n",
    "_ = load_dotenv(find_dotenv(env_path))  # 读取本地 .env 文件，里面定义了 OPENAI_API_KEY\n",
    "\n",
    "# openai_api_key = os.getenv('OPENAI_API_KEY')\n",
    "# openai_base_url = os.getenv('OPENAI_BASE_URL')\n",
    "\n",
    "# client = OpenAI(api_key=openai_api_key, base_url=openai_base_url)\n",
    "\n",
    "# 新方法，不用显式传入API key和base_url\n",
    "client = OpenAI()\n",
    "\n",
    "def get_completion(prompt, model=\"gpt-4o\"):\n",
    "    '''封装 openai 接口'''\n",
    "    messages = [{\"role\": \"user\", \"content\": prompt}]\n",
    "    response = client.chat.completions.create(\n",
    "        model=model,\n",
    "        messages=messages,\n",
    "        temperature=0,  # 模型输出的随机性，0 表示随机性最小\n",
    "    )\n",
    "    return response.choices[0].message.content\n",
    "\n",
    "\n",
    "get_completion(\"讲个笑话\")"
   ]
  },
  {
   "cell_type": "markdown",
   "metadata": {},
   "source": [
    "### 5. 向量相似度计算"
   ]
  },
  {
   "cell_type": "code",
   "execution_count": 45,
   "metadata": {},
   "outputs": [],
   "source": [
    "import numpy as np\n",
    "from numpy import dot\n",
    "from numpy.linalg import norm\n",
    "\n",
    "def cos_sim(a, b):\n",
    "    '''余弦距离 -- 越大越相似, 越接近1越相似'''\n",
    "    return dot(a, b)/(norm(a)*norm(b))\n",
    "\n",
    "\n",
    "def l2(a, b):\n",
    "    '''欧氏距离 -- 越小越相似，越接近0越相似'''\n",
    "    x = np.asarray(a)-np.asarray(b)\n",
    "    return norm(x)\n",
    "\n"
   ]
  },
  {
   "cell_type": "markdown",
   "metadata": {},
   "source": [
    "### 6. 封装向量化函数\n"
   ]
  },
  {
   "cell_type": "code",
   "execution_count": 58,
   "metadata": {},
   "outputs": [
    {
     "name": "stdout",
     "output_type": "stream",
     "text": [
      "2\n",
      "1536\n",
      "[[0.005977225489914417, 0.019384583458304405, 0.01978452317416668, -0.04906761646270752, 0.005933482199907303, -0.05259208381175995, -0.02664599008858204, -0.01296054944396019, 0.0021699860226362944, -0.021284297108650208, 0.017872311174869537, 0.0028495711740106344, -0.017359888181090355, 0.016572505235671997, 0.020209459587931633, 0.06129077821969986, -0.00763635104522109, -0.009836019948124886, -0.021471768617630005, 0.030445419251918793, 0.024371331557631493, 0.01296054944396019, 0.010142223909497261, -0.03459479287266731, -0.012210662476718426, -0.03067038394510746, -0.03831923380494118, -0.03192019462585449, 0.06379040330648422, -0.05784129723906517, -0.034294839948415756, -0.041818708181381226, 0.018697185441851616, -0.01636003889143467, -0.004136877600103617, 0.03934407979249954, 0.04609306529164314, -0.03929408639669418, 0.010417181998491287, -0.08423732221126556, -0.0225841011852026, 0.0063740406185388565, 0.02374642714858055, 0.014547810889780521, 0.02327149733901024, 0.036494508385658264, -0.025021234527230263, 0.01259185466915369, 0.0230715274810791, 0.020734379068017006, -0.02532118931412697, 0.006936456076800823, -0.014322844333946705, -0.030245447531342506, 0.018109774217009544, 0.017422378063201904, -0.030120467767119408, 0.04981750249862671, 0.012035688385367393, -0.023346487432718277, 0.04021894931793213, -0.010335944592952728, -0.022671587765216827, 0.027620842680335045, -0.010648397728800774, -0.004524318967014551, -0.03254510089755058, -0.016497517004609108, -0.009836019948124886, -0.019559556618332863, 0.05594158172607422, 0.015110226348042488, -0.06004096567630768, -0.01057965774089098, -0.007517618592828512, -0.02442132495343685, -0.043993379920721054, -0.005424183793365955, -0.02050941437482834, -0.02799578756093979, 0.01187946181744337, 0.02664599008858204, -0.004905511625111103, -0.017847314476966858, -0.008367490954697132, -0.01086086593568325, -0.05189219117164612, 0.02452130988240242, 0.010667144320905209, -0.0393940731883049, -0.0076301018707454205, -0.03257009759545326, 0.006723988335579634, -0.01323550846427679, 0.05184219777584076, 0.0015036800177767873, -0.03606957197189331, -0.01764734461903572, -0.025646140798926353, -0.00423373794183135, 0.05749134719371796, 0.008061286993324757, -0.006145949941128492, 0.04434332624077797, -0.03736937791109085, 0.01120456401258707, -0.02187170833349228, -0.04926758632063866, -0.06469026207923889, 0.013647946529090405, -0.056841444224119186, 0.00612720288336277, -0.03152025490999222, 0.004352469928562641, 0.022746575996279716, 0.01634754054248333, 0.04144376143813133, -0.0644403025507927, 0.01392290461808443, -0.04291854053735733, 0.010385937057435513, 0.019534559920430183, -0.0029104994609951973, -0.029595546424388885, -0.017309894785284996, -0.03331998735666275, 0.0280457790941, -0.02388390526175499, -0.03192019462585449, 0.009654796682298183, -0.005839745979756117, -0.009804774075746536, 0.008386237546801567, -0.006449029315263033, -0.06314049661159515, 0.01427285186946392, -0.022234154865145683, 0.06339046359062195, -0.04039392247796059, 0.04346845671534538, 0.06219064071774483, -0.03207017481327057, 0.006474025547504425, 0.03326999396085739, -0.03609456866979599, -0.03072037734091282, -0.031620241701602936, -0.031045328825712204, 0.0010685891611501575, 0.030120467767119408, -0.006836471147835255, -0.00786131713539362, -0.05304201692342758, 0.026246050372719765, 0.013897908851504326, 0.0001179509999928996, 0.020659390836954117, -0.032345131039619446, -0.054791755974292755, 0.00986726488918066, 0.023658938705921173, -0.018072281032800674, 0.0018747178837656975, 0.007292652502655983, 0.002540242625400424, -0.016547510400414467, 0.03944406285881996, 0.01437283679842949, -0.048067767173051834, -0.0058241235092282295, -0.0171224232763052, -0.06139076128602028, -0.004780530463904142, 0.011498269625008106, -0.06703991442918777, 0.01025470718741417, -0.026945944875478745, -0.0032276392448693514, -0.00891115888953209, 0.02389640361070633, 0.027720827609300613, 0.06319049000740051, -0.00020582840079441667, 0.03604457527399063, -0.012216911651194096, -0.06354043632745743, 0.033669933676719666, 0.05369191989302635, 0.005286704283207655, 0.004992998670786619, -0.011510767973959446, -0.026346035301685333, 0.0312952920794487, -0.008654947392642498, -3.073268089792691e-05, -0.07423882931470871, 0.0682397335767746, -0.023708932101726532, -0.020096976310014725, 0.04924258962273598, 0.007411384489387274, 0.0366944782435894, -0.03961903601884842, 0.026895953342318535, -0.02857070043683052, -0.01765984296798706, -0.024758774787187576, -0.014547810889780521, -0.01091710664331913, -0.0625905841588974, 0.0954856276512146, 0.01702243834733963, 0.021471768617630005, -0.004718040116131306, -0.008454977534711361, 0.0021121820900589228, 0.003718190360814333, 0.023059029132127762, 0.01527270209044218, 0.005152349825948477, -0.008292501792311668, 0.03941906616091728, 0.05264207720756531, 0.03219515457749367, 0.0038619188126176596, 0.05779130384325981, -0.0002677331503946334, -0.03149526193737984, 0.0038119263481348753, -0.07603855431079865, 0.034344833344221115, -0.003790054703131318, -0.007030191831290722, -0.03604457527399063, 0.01763484627008438, 0.016097577288746834, -0.004508696496486664, 0.00037904453347437084, -0.043218497186899185, -0.0061209537088871, -0.07353893667459488, 0.0018465970642864704, 0.02174672670662403, 0.017147419974207878, 0.022771572694182396, -0.011660745367407799, -0.026021083816885948, -0.04416835308074951, 0.03197018802165985, 0.02113431878387928, 0.040543898940086365, 0.007705090567469597, -0.011948201805353165, -0.01967203989624977, 0.0024964993353933096, 0.013985395431518555, 0.005636651534587145, 0.017959797754883766, 0.01226065494120121, 0.007073935586959124, -0.03212016448378563, 0.011223310604691505, -0.03341997042298317, -0.007123928051441908, -0.015210211277008057, 0.03077036887407303, 0.05034242570400238, 0.02034693770110607, 0.04616805166006088, -0.06728987395763397, -0.007992547005414963, 0.017897306010127068, 0.046043071895837784, 0.005374191328883171, -0.03661948814988136, 0.038044273853302, -0.03606957197189331, -0.025646140798926353, 0.014347841031849384, 0.03556964546442032, -0.04079386219382286, 0.006358418148010969, -0.01762234792113304, -0.03486975282430649, -0.03312001749873161, -0.013772927224636078, -0.010135974735021591, 0.00889866054058075, 0.03906911984086037, 0.007292652502655983, 0.006002221722155809, -0.002368393586948514, 0.02999548614025116, -0.022821566089987755, 0.009379838593304157, 0.028145764023065567, 0.02113431878387928, -0.0339948832988739, 0.0101547222584486, -0.01895964704453945, 0.0014630610821768641, 0.004374341573566198, 0.056191544979810715, 0.016597501933574677, -0.00630530109629035, 0.01573513261973858, 0.004796153400093317, -0.0381692573428154, -0.015285199508070946, -0.0036619489546865225, 0.003586960257962346, -0.0044587040320038795, -0.01642252877354622, -0.019022136926651, -0.03551965579390526, -0.06364042311906815, 0.026121068745851517, -0.004958628676831722, 0.012016941793262959, -0.04039392247796059, 0.021546756848692894, -0.040468908846378326, 0.032970037311315536, 0.027370881289243698, -0.030820362269878387, 0.026945944875478745, -0.005371066741645336, 0.007642599754035473, 0.03906911984086037, -0.0032245146576315165, -0.034369826316833496, -0.050817351788282394, 0.013972897082567215, -0.015260203741490841, 0.05159223452210426, -0.00493363244459033, -0.019434574991464615, 0.11468274146318436, -0.0008561211870983243, 0.008061286993324757, -0.061740707606077194, 0.001060777809470892, 0.014810271561145782, 0.016135072335600853, 0.0192096084356308, -0.01907213032245636, 0.011023340746760368, -0.014472821727395058, 0.02789580263197422, 0.05254209414124489, 0.020296946167945862, 0.06544015556573868, 0.021496765315532684, 0.02659599669277668, 0.008673694916069508, -0.05709140747785568, -0.003408862045034766, 0.02173422835767269, 0.03936907649040222, -0.01768483780324459, -0.004133753012865782, 0.004930507857352495, 0.026970941573381424, 0.0015880422433838248, 0.009554811753332615, 0.015585154294967651, -0.036494508385658264, -0.004040016792714596, 0.02442132495343685, -0.007992547005414963, -0.0012662156950682402, 0.06059088185429573, -0.00013542883971240371, 0.010467174462974072, -0.06843969970941544, -0.016160067170858383, -0.018172265961766243, 0.03799428045749664, -0.006805225741118193, 0.032970037311315536, -0.016847465187311172, 0.02315901406109333, -0.014435327611863613, -0.0027823937125504017, 0.022734079509973526, -0.0023152765352278948, -0.011173318140208721, 0.043318480253219604, 0.008654947392642498, 1.7868404029286467e-05, 0.027470866218209267, 0.04636802151799202, 0.015572656877338886, 0.0095110684633255, 0.028170760720968246, 0.0008014418999664485, 0.02328399568796158, 0.054791755974292755, 0.004211866296827793, -0.004046265967190266, 0.03147026523947716, -0.0014935252256691456, -0.05324198678135872, 0.026296041905879974, -0.019509563222527504, 0.005049240309745073, 0.0036369527224451303, 0.011123325675725937, -0.0025855484418570995, -0.018022287636995316, 0.025558654218912125, -0.027820812538266182, 0.01498524472117424, -0.016147570684552193, 0.004186870064586401, -0.03601957857608795, 0.01331049669533968, 0.05389188975095749, -0.019284598529338837, -0.020934348925948143, -0.03247011452913284, -0.030445419251918793, -0.038044273853302, 0.04439331963658333, -0.00846122670918703, 0.018147269263863564, 0.04241861775517464, -0.019184613600373268, 0.04421834647655487, -0.03866918012499809, -0.026970941573381424, 0.0069864485412836075, -0.008486222475767136, -0.007698841392993927, -0.0435684435069561, -0.011123325675725937, -0.012185665778815746, 0.04959253594279289, 0.006152199115604162, -0.011054586619138718, 0.010885861702263355, -0.014060383662581444, -0.04541816562414169, 0.0010115664917975664, -0.01848471909761429, 0.004546191077679396, 0.029670534655451775, 0.035844605416059494, -0.019634544849395752, -0.04214365780353546, -0.001054528751410544, -0.023321490734815598, 0.025696132332086563, -0.030970338732004166, 0.004718040116131306, -0.002663661725819111, -0.0012302836403250694, -0.013547961600124836, 0.03616955876350403, -0.05264207720756531, 0.018672190606594086, 0.0073613920249044895, -0.009429831057786942, 0.016022589057683945, -0.003933783154934645, -0.03616955876350403, 0.05939106270670891, -0.002885503228753805, 0.04091884195804596, -0.0384192168712616, -0.027070926502346992, 0.0008818985079415143, -0.03341997042298317, -0.018947148695588112, -0.01849721558392048, -0.026396026834845543, -0.004971127025783062, -0.039868999272584915, -0.029595546424388885, -0.029420573264360428, 0.03476976603269577, -0.026421023532748222, -0.012460624799132347, 0.002987050451338291, -0.03064538910984993, 0.19667039811611176, -0.01704743504524231, 0.015460173599421978, 0.0040556397289037704, -0.02802078239619732, -0.004177496302872896, 0.0055991574190557, 0.010654646903276443, -0.013460474088788033, 0.01189820934087038, -0.009286102838814259, 0.033744920045137405, -0.05874115973711014, -0.022659089416265488, -0.033769916743040085, -0.016822468489408493, -0.013447976671159267, -0.048017773777246475, 0.03691944479942322, 0.05129228159785271, -0.01402288954705, -0.03514471277594566, -0.02105933055281639, 0.035794612020254135, 0.0036369527224451303, 0.01842222735285759, -0.004058764316141605, -0.013123025186359882, 0.02309652417898178, -0.013123025186359882, 0.03609456866979599, -0.015197712928056717, 0.044618286192417145, -0.04019395262002945, 0.010329695418477058, 0.002007510280236602, 0.034344833344221115, -0.01967203989624977, -0.047267887741327286, -0.009329846128821373, -0.02053440921008587, -0.001263091224245727, -0.08273755013942719, -0.0027245900128036737, -0.011110828258097172, 0.006736486218869686, -0.024808766320347786, 0.04159374162554741, -0.003393239341676235, -0.015822619199752808, -0.058241236954927444, 0.004524318967014551, 0.018297245725989342, 0.03287005424499512, -0.012810572050511837, 0.01392290461808443, 0.016834966838359833, 0.01499774307012558, -0.04484325274825096, -0.031095320358872414, 0.018584704026579857, 0.007367641199380159, 0.0017356763128191233, 0.00281988806091249, -0.010367189534008503, 0.018584704026579857, -0.04044391214847565, 0.04201867803931236, 0.006574010476469994, -0.03414485976099968, 0.006686493754386902, 0.008442479185760021, 0.000641309714410454, 0.023958895355463028, -0.023371482267975807, 0.03391989693045616, -0.021334288641810417, -0.020909354090690613, -0.0025902350898832083, -0.04169372469186783, -0.02444632165133953, 9.734863124322146e-05, -0.012754330411553383, 0.028520707041025162, -0.01629754714667797, -0.03329499065876007, 0.04959253594279289, -0.02794579416513443, 0.029845507815480232, -0.03824424371123314, -0.02517121285200119, 0.039194103330373764, -0.03499473258852959, -0.02584611065685749, 0.010954601690173149, 0.006630252115428448, -0.01694745011627674, -0.028270745649933815, 0.024758774787187576, -0.010104729793965816, 0.0005354663007892668, 0.06564012169837952, -0.02377142198383808, -0.03359494358301163, 0.013435478322207928, 0.03596958518028259, 0.008423732593655586, 0.010454677045345306, -0.014710286632180214, 0.008442479185760021, -0.024246351793408394, 0.024133868515491486, -0.011810722760856152, -0.0280457790941, -0.018597200512886047, 0.011110828258097172, 0.004655549302697182, 0.014072882011532784, 0.010773378424346447, 0.043193500488996506, 0.03389490023255348, 0.011248307302594185, 0.006599006708711386, 0.010360940359532833, -0.028520707041025162, -0.003580711083486676, 0.002355895470827818, -0.012498118914663792, 0.0002745680685620755, 0.024221355095505714, 0.0020996839739382267, -0.022609097883105278, -0.0007409041281789541, 0.019184613600373268, -0.0015325818676501513, 0.0017122423741966486, 0.025008736178278923, 0.04514320567250252, 0.00409625843167305, -0.03811926394701004, 0.03754435107111931, -0.003958779387176037, -0.025596147403120995, -0.035119716078042984, 0.020496916025877, -0.028220752254128456, 0.024121370166540146, 0.0006405286258086562, -0.033819910138845444, -0.0076301018707454205, -0.01763484627008438, 0.056841444224119186, 0.004752409644424915, -0.01769733615219593, -0.0030495410319417715, 0.01261685136705637, 0.006848969496786594, 0.003515095915645361, -0.03351995721459389, 0.02802078239619732, -0.018572205677628517, 0.01527270209044218, 0.0013216760708019137, -0.008636200800538063, -0.02652100846171379, -0.008786178193986416, -0.007398886606097221, 0.0013638573000207543, -0.002635540906339884, 0.029570549726486206, -0.04351845011115074, -0.04411835968494415, -0.018109774217009544, -0.01198569592088461, 0.0006163134821690619, 0.025033732876181602, 0.03072037734091282, -0.01129829976707697, 0.005333572160452604, -0.00919236708432436, 0.030295440927147865, -0.015947600826621056, 0.003352620406076312, -0.018059782683849335, 0.03189520165324211, -0.0204344242811203, 0.020809369161725044, 0.015147720463573933, -0.004880515392869711, 0.031195305287837982, 0.04436832293868065, 0.005845995154231787, -0.039244093000888824, 0.023646442219614983, 0.023996388539671898, -0.0022434124257415533, 0.016647495329380035, -0.01428535021841526, -0.029170610010623932, 0.03214516118168831, -0.010904609225690365, 0.018734680488705635, 0.00393065856769681, 0.01156076043844223, -0.009042389690876007, -0.007736335974186659, -0.025396177545189857, -0.009204864501953125, -0.005389813799411058, 0.006092832889407873, -0.010692141018807888, -0.005746010225266218, 0.0015896045370027423, -0.005799127276986837, 0.061690717935562134, 0.012848066166043282, -0.012416881509125233, -0.01060465443879366, -0.001777857425622642, -0.0034994734451174736, -0.029820512980222702, 0.009567310102283955, -0.0015825743321329355, 0.035794612020254135, -0.010817121714353561, -0.007267656270414591, 0.0010326571064069867, -0.033095020800828934, -0.039868999272584915, -0.016122573986649513, -0.0005796002806164324, -0.0042556095868349075, 0.0067802295088768005, -0.006339671090245247, 0.001704431022517383, 0.022096674889326096, 0.04286854714155197, 0.02784580923616886, -0.03471977636218071, -0.004558688960969448, -0.03346996381878853, -0.007192667573690414, -0.01533519197255373, 0.004652424715459347, 0.028820663690567017, 0.006542765535414219, 0.007680094335228205, 0.006998946890234947, 0.011342043057084084, 0.00954231433570385, -0.013872912153601646, -0.04609306529164314, 0.01227315329015255, 0.0005346851539798081, 0.0014810271095484495, -0.026196056976914406, -0.017347389832139015, 0.01904713362455368, 0.001327143982052803, -0.027645839378237724, 0.0163850337266922, -0.006333421915769577, 0.0381692573428154, -0.039094116538763046, 0.004324349109083414, -0.030895350500941277, 0.009348592720925808, -0.009242359548807144, -0.021959194913506508, 0.022309143096208572, -0.05299202352762222, 0.0011467024451121688, 0.012416881509125233, 0.0238089170306921, 0.053441956639289856, -0.00819876603782177, 0.028870655223727226, -0.001269340282306075, 0.012323145754635334, -0.021346786990761757, -0.0044899494387209415, 0.0008225324563682079, 0.007211414631456137, -0.002104370854794979, 0.010867114178836346, 0.013522964902222157, -0.029095621779561043, 0.024046381935477257, 0.012441877275705338, 0.028095772489905357, -0.023408977314829826, -0.03491974622011185, 0.01843472570180893, 0.005536666605621576, 0.009586057625710964, -0.027595847845077515, 0.025558654218912125, -0.04224364459514618, -0.005680395290255547, -0.017922302708029747, -0.02388390526175499, 0.010298450477421284, 0.04134377837181091, -0.015910105779767036, -0.02579611726105213, -0.022784071043133736, -0.026096072047948837, 0.02507122792303562, 0.014797773212194443, 0.004992998670786619, -0.0025730503257364035, -0.06129077821969986, -0.06264057010412216, -0.007517618592828512, -0.01842222735285759, -0.011323295533657074, -0.04719289764761925, -0.016572505235671997, 0.02719590812921524, 0.05096732825040817, -0.026096072047948837, 0.009836019948124886, 0.04341846704483032, 0.0009646985563449562, -0.01223565824329853, -0.020584402605891228, 0.003365118522197008, 0.00036576527054421604, 0.01262934971600771, -0.03187020495533943, -0.014385335147380829, -0.01979702152311802, -0.03054540418088436, 0.0017622348386794329, -0.003208892187103629, 0.010060985572636127, -0.03799428045749664, -0.006417784374207258, -0.024158865213394165, -0.007073935586959124, 0.014847765676677227, -0.008986148051917553, 0.012404383160173893, -0.0112920505926013, 0.021221807226538658, -0.0001364052586723119, -0.00847372505813837, 0.008517468348145485, -0.010667144320905209, 0.020809369161725044, 0.028270745649933815, -0.02310902252793312, -0.0037275641225278378, -0.01904713362455368, -0.01964704319834709, 0.0342448465526104, 0.035194702446460724, -7.728329364908859e-05, -0.02528369426727295, -0.002371518174186349, -0.024058880284428596, -0.0008264381322078407, 0.02315901406109333, -0.030520407482981682, 0.02714591473340988, -0.009117377921938896, -0.0018715932965278625, 0.024083875119686127, -0.001279494957998395, -0.027820812538266182, 0.021471768617630005, 0.06544015556573868, -0.029545553028583527, 0.012379387393593788, -0.021384282037615776, -0.02240912802517414, -0.016647495329380035, -0.02377142198383808, -0.013347991742193699, 0.03599458187818527, -0.030395425856113434, -0.019897006452083588, 0.006561512593179941, 0.021909203380346298, 0.02934558317065239, -0.017209909856319427, 0.006561512593179941, -0.03391989693045616, -0.004121254663914442, 0.020846862345933914, -0.008673694916069508, 0.019309593364596367, 0.01577262580394745, -0.02169673517346382, 0.026146065443754196, 0.039893995970487595, -0.03359494358301163, 0.019559556618332863, 0.01980951800942421, -0.006692742928862572, -0.023059029132127762, -0.005371066741645336, 0.039893995970487595, 0.02597109228372574, -0.012379387393593788, 0.018872160464525223, -0.03459479287266731, -0.008742433972656727, -0.011017092503607273, -0.011004594154655933, -0.01227315329015255, -0.002987050451338291, 0.012429379858076572, 0.016747480258345604, -0.019609548151493073, 0.009985997341573238, -0.016909955069422722, 0.037769317626953125, 0.02174672670662403, -0.0035119715612381697, -0.020584402605891228, -0.036319535225629807, 0.00306047685444355, 0.01703493669629097, 0.02924559824168682, -0.01466029416769743, -0.04981750249862671, -0.0018653442384675145, 0.022671587765216827, 0.012779327109456062, -0.008754932321608067, -0.018084779381752014, 0.012554360553622246, 0.06154073774814606, 0.012510617263615131, -0.035669632256031036, -0.04984249919652939, 0.017234906554222107, -0.029170610010623932, 0.022259149700403214, -0.005471051670610905, 0.021559255197644234, 0.050792355090379715, 0.010835869237780571, 0.013635448180139065, 0.0034932242706418037, -0.019897006452083588, -0.06209065765142441, 0.009417332708835602, 0.03859419375658035, 0.015285199508070946, -0.012898058630526066, 0.008492471650242805, -0.011092080734670162, -0.004789904225617647, -0.028120767325162888, 0.020934348925948143, -0.023483965545892715, -0.0012302836403250694, 0.0008365928661078215, -0.019472070038318634, 0.004818025045096874, 0.024971242994070053, 0.028295742347836494, -0.010823370888829231, -0.032395124435424805, -0.017534861341118813, 0.006973950657993555, -0.026945944875478745, -0.03149526193737984, 0.0015357063384726644, 0.007955052889883518, -0.037244394421577454, 0.025008736178278923, 0.014585305005311966, 0.02174672670662403, 0.009923506528139114, -0.010823370888829231, -0.019959496334195137, 0.019222106784582138, 0.012304398231208324, -0.03529468923807144, 0.008967400528490543, 0.016659993678331375, -0.003408862045034766, 0.014185365289449692, 0.02045942097902298, 0.013485470786690712, 0.025008736178278923, -0.032245147973299026, -0.021221807226538658, 0.04094383865594864, 0.008180019445717335, 0.010979597456753254, -0.05119229480624199, -0.0007014569127932191, 0.024108871817588806, 0.0004944568499922752, 0.03959404304623604, 0.017209909856319427, 0.003352620406076312, 0.044743265956640244, 0.0062021915800869465, -0.001149826915934682, 0.03629453852772713, 0.003318250644952059, 0.010060985572636127, -0.0048680175095796585, 0.06084084510803223, 0.02594609558582306, -0.006455278489738703, -0.02517121285200119, 0.04551814869046211, 0.014847765676677227, 0.008161271922290325, -0.01773483119904995, 0.019946997985243797, 0.013248005881905556, -0.024958744645118713, -0.026296041905879974, 0.001110770390368998, 0.02310902252793312, -0.016010090708732605, 0.0015091479290276766, -0.011023340746760368, 0.0015161781338974833, 0.02035943605005741, -0.016060082241892815, -0.01702243834733963, 0.06574010848999023, -0.0066115050576627254, -0.004380590748041868, 0.013410481624305248, -0.030470414087176323, 0.004611806012690067, -0.0126106021925807, -0.03287005424499512, 0.02717091143131256, -4.9675141781335697e-05, 0.0015833554789423943, 0.013622949831187725, 0.01704743504524231, -0.027120918035507202, 0.02382141537964344, 0.045218195766210556, 0.01777232624590397, 0.03666948154568672, 0.01627255044877529, 0.009567310102283955, -0.03054540418088436, 0.016610000282526016, 0.00890490971505642, 0.0034619790967553854, 0.016872460022568703, -0.03809426724910736, 0.012448126450181007, 0.017472371459007263, 0.008998645469546318, 0.006886463612318039, 0.0021356160286813974, -0.01982201635837555, 0.027545854449272156, 0.00715517345815897, -0.0020715631544589996, 0.028395727276802063, -0.01537268701940775, 0.0056241536512970924, -0.01832224242389202, 0.010792125947773457, 0.011604503728449345, -0.01190445851534605, 0.04409336298704147, 3.5956501960754395e-05, 0.02374642714858055, 0.019022136926651, -0.024721279740333557, 0.03351995721459389, -0.005189843941479921, -0.023408977314829826, 0.007880063727498055, 0.0066739958710968494, -0.01631004549562931, 0.017309894785284996, 0.03189520165324211, 0.01847222074866295, 0.013497969135642052, -0.007311399560421705, -0.010679642669856548, 0.012679342180490494, -0.010535914450883865, 0.029520558193325996, -0.007930056191980839, -0.022146666422486305, 0.014197863638401031, 0.03811926394701004, -0.021284297108650208, -0.017897306010127068, -0.03137027844786644, -0.018222257494926453, 0.006164697464555502, -0.00474928505718708, 0.005392938386648893, -0.0027886428870260715, 0.007180169690400362, -0.0028058276511728764, -0.02257160283625126, -0.03591959550976753, -0.00847997423261404, -0.02787080593407154, -0.000555385195184499, 0.0051023573614656925, 0.01757235638797283, 0.02174672670662403, 0.032920047640800476, 0.02649601176381111, -0.011698239482939243, -0.026920948177576065, 0.013497969135642052, 0.0019387707579880953, -0.017997290939092636, -0.00787381548434496, -0.005049240309745073, 0.007417633663862944, 0.012741832062602043, -0.0034682280384004116, 0.0034213601611554623, 0.0010693703079596162, -0.010635899379849434, -0.007236410863697529, 0.007892562076449394, -0.01917211525142193, 0.006605255883187056, -0.035119716078042984, -0.01059215608984232, -0.024983739480376244, 0.005171096883714199, 0.01331049669533968, 0.046043071895837784, 0.012685591354966164, -0.05189219117164612, -0.0015161781338974833, -0.014197863638401031, 0.02525869943201542, 0.004505571909248829, 0.020946847274899483, -0.028970640152692795, 0.005374191328883171, -0.0011263929773122072, -0.00596160301938653, 0.0032432619482278824, -0.019884508103132248, 0.011666994541883469, 0.011260805651545525, -0.013647946529090405, -0.03541966900229454, -0.001419317675754428, 0.006586508825421333, 0.023508962243795395, 0.012860564514994621, -0.010973348282277584, -0.002587110735476017, 0.005192968528717756, 0.07643849402666092, -0.0203094445168972, -0.028370730578899384, -0.009617302566766739, 0.003749435767531395, -0.001105302362702787, 0.0050429911352694035, -0.0011607628548517823, -0.01094210334122181, 0.016510015353560448, 0.007373890373855829, -0.014335342682898045, 0.024121370166540146, -0.006636501289904118, 0.02328399568796158, 0.0013724496820941567, -0.010435929521918297, -0.043818406760692596, -0.016197562217712402, -0.03007047437131405, 0.03214516118168831, -0.003718190360814333, 0.004177496302872896, -0.025008736178278923, 0.001422442146576941, -0.0006987229571677744, -0.0369444414973259, -0.0037681828252971172, 0.025096222758293152, 0.05429182946681976, 0.0031167184934020042, 0.02734588459134102, -0.005836621858179569, -0.00041478133061900735, -0.030245447531342506, -0.028320737183094025, -0.014697788283228874, 0.006052214186638594, -0.003777556587010622, -0.04441831633448601, -0.02647101692855358, 0.04509321227669716, 0.0038306736387312412, 0.014185365289449692, -0.004996123258024454, -0.011998194269835949, 0.005977225489914417, 0.03531968593597412, -0.0022434124257415533, 0.008742433972656727, -0.0032932544127106667, 0.003980651032179594, -0.012785576283931732, -0.00037552943103946745, 0.021259300410747528, -0.04014395922422409, -0.012848066166043282, 0.005830372683703899, 0.039219096302986145, 0.015847615897655487, 0.01333549339324236, -0.013747931458055973, -0.0035057223867625, -0.0010810872772708535, 0.01978452317416668, -0.035169705748558044, 0.0022309143096208572, 0.023346487432718277, -0.008667445741593838, 0.000993600464425981, -0.013547961600124836, 0.010979597456753254, -0.016197562217712402, 0.014910256490111351, -0.013110526837408543, -0.009711038321256638, 0.025646140798926353, -0.00787381548434496, 0.006274055689573288, -0.030845358967781067, 0.004558688960969448, -0.007055188063532114, 0.00786756630986929, 0.010967100039124489, 0.015910105779767036, 0.0037681828252971172, -0.009942254051566124, -0.06544015556573868, 0.006049089599400759, -0.0007280154386535287, -0.001977827399969101, -0.009223612025380135, 0.02113431878387928, 0.0555916354060173, 0.003171397838741541, -0.0017356763128191233, 0.005464802496135235, 0.004221239592880011, 0.007330147083848715, -0.029120618477463722, -0.004439956974238157, 0.004424334038048983, 0.013760428875684738, 0.022734079509973526, 0.032995034009218216, -0.01164199784398079, -0.04649300500750542, 0.00476178340613842, -0.007480124477297068, 0.02515871450304985, 0.008492471650242805, 0.0020168840419501066, 0.04771782085299492, -0.05924108624458313, -0.006070961244404316, 0.0010404684580862522, -0.014085380360484123, 0.004402462393045425, -0.020971843972802162, 0.038369227200746536, 0.02458379976451397, -0.004918009974062443, 0.013810421340167522, 0.0006690399604849517, -0.02312152087688446, 0.0070489393547177315, 0.013273002579808235, 0.03469477966427803, 0.014497818425297737, 0.007117678876966238, -0.0010021929629147053, -0.023346487432718277, -0.00953606516122818, 0.014910256490111351, 0.0176098495721817, -0.003958779387176037, 0.0070176939480006695, -0.03059539571404457, 0.020896855741739273, -0.009554811753332615, 0.021509263664484024, 0.0411188118159771, 0.01085461676120758, 0.0005030492902733386, 0.03824424371123314, -0.008348743431270123, -0.009242359548807144, 0.0022527859546244144, 0.0026589748449623585, -0.017947299405932426, 0.013460474088788033, 0.004308726638555527, 0.002746461657807231, -0.009804774075746536, -0.021421777084469795, 0.031020332127809525, -0.03969402611255646, -0.03734438121318817, -0.01833474077284336, 0.005936606787145138, 0.039269089698791504, -0.014222859404981136, -0.008642449043691158, 0.023946397006511688, -0.013622949831187725, -0.020909354090690613, -0.05264207720756531, 0.030470414087176323, -0.004127503838390112, 0.009467325173318386, 0.009029891341924667, -0.02123430371284485, 0.01357295736670494, 0.02055940590798855, 0.0055929082445800304, 0.0002866756112780422, -0.014535312540829182, 0.04836772009730339, 0.009042389690876007, 0.011310798116028309, 0.038444213569164276, -0.0163850337266922, -0.013285500928759575, 0.007642599754035473, 0.003733813064172864, 0.019484568387269974, 0.0018715932965278625, -0.03671947494149208, 0.0036869451869279146, -0.004639926832169294, 0.0008006607531569898, 0.006898961961269379, 0.006174070760607719, -0.007348894141614437, 0.007555113174021244, 0.05021744221448898, -0.029770519584417343, -0.03739437088370323, -0.03007047437131405, -0.02732088789343834, -0.022921551018953323, -0.020584402605891228, 0.03729438781738281, 0.014097878709435463, 0.013447976671159267, -0.01367294229567051, -0.01427285186946392, -0.011448277160525322, -0.023658938705921173, 0.012104428373277187, 0.029670534655451775, -0.01437283679842949, 0.005252334754914045, -0.02185920998454094, 0.020209459587931633, -0.01977202482521534, 0.020284447818994522, 0.005380440503358841, -0.029045628383755684, 0.009798525832593441, 0.010517166927456856, -0.0102484580129385, -0.0032120165415108204, -0.024758774787187576, -0.01768483780324459, 0.00821751356124878, 0.017547359690070152, -0.031745221465826035, -0.013023040257394314, -0.015547660179436207, 0.017209909856319427, -0.016010090708732605, 0.00715517345815897, -0.016697486862540245, 0.004514945670962334, 0.022259149700403214, -0.028345733880996704, -0.009823521599173546, 0.04641801491379738, -0.011941952630877495, -0.031595245003700256, 0.005552289541810751, -0.020146967843174934, 0.032395124435424805, -0.008292501792311668, 0.006898961961269379, 0.014572806656360626, 0.011079582385718822, -0.01577262580394745, -0.024346336722373962, 0.022246651351451874, 0.018097275868058205, 0.008492471650242805, -0.026820963248610497, -0.0032963789999485016, -0.003346371464431286, 0.02039693109691143, -0.017922302708029747, -0.016535012051463127, -0.03416985645890236, -0.020846862345933914, -0.01830974407494068, -0.03322000056505203, -0.0384192168712616, 0.017972296103835106, -0.022159164771437645, 0.006761482451111078, 0.008711189031600952, -0.018772175535559654, 0.022209158167243004, -0.010204714722931385, -0.022221656516194344, 0.00375256035476923, 0.005739761050790548, -0.03471977636218071, 0.006324048154056072, -0.0014396271435543895, -0.02108432725071907, 0.011010843329131603, -0.009761030785739422, -0.023358983919024467, -0.02654600515961647, -0.00665524834766984, -0.006755233276635408, 0.007542614825069904, 0.001793480128981173, -0.008673694916069508, 0.015485169366002083, -0.0027277146000415087, -0.017597351223230362, -0.000361078476998955, -0.002205918077379465, -0.0036775716580450535, -0.01769733615219593, 0.024333838373422623, 0.0292705949395895, -0.03856919705867767, 0.006680244579911232, -0.0393940731883049, -0.020634394139051437, -0.028295742347836494, 0.019434574991464615, -0.007936305366456509, -0.026346035301685333, 0.00542105920612812, 0.0056835198774933815, 0.020334439352154732, -0.009798525832593441, 0.00026031240122392774, 0.02584611065685749, -0.01833474077284336, 0.02443382330238819, 0.002498061629012227, 0.028270745649933815, -0.01643502712249756, 0.03284505754709244, 0.008354992605745792, -0.009017392992973328, 0.0009287665016017854, -0.007198916748166084, 0.008873664774000645, 0.010804624296724796, -0.028220752254128456, -0.0071301767602562904, 0.09773529320955276, -0.025746125727891922, -0.0406188890337944, 0.016047585755586624, 0.0055616628378629684, 0.05184219777584076, 0.004352469928562641, 0.029495561495423317, 0.0006311550387181342, -0.01765984296798706, 0.020596900954842567, 0.015097727999091148, -0.01833474077284336, 0.005889738444238901, -0.03799428045749664, 0.002193419961258769, -0.022121671587228775, 0.020759375765919685, 0.012873062863945961, -0.008017543703317642, 0.025096222758293152, 0.02579611726105213, -0.009017392992973328, -0.00818626768887043, -0.004264983348548412, -0.0015591403935104609, -0.01782231777906418, -0.026321038603782654, 0.036494508385658264, -0.002904250519350171, 0.011991945095360279, 0.03004547767341137, 0.03514471277594566, -0.02315901406109333, -0.027395877987146378, 0.017559858039021492, 0.0075988564640283585, 0.018647193908691406, 0.04011896252632141, -0.009298600256443024, -0.027720827609300613, 0.022259149700403214, 0.014847765676677227, 0.0061990669928491116, 0.019397081807255745, -0.003955654799938202, -0.012179417535662651, -0.01332299504429102, -0.025058729574084282, -0.01905963197350502, 0.006961452309042215, 0.01632254384458065, -0.05124228820204735, -0.013447976671159267, -0.0034463563933968544, -0.01900963857769966, 0.015897607430815697, 0.004202492535114288, 0.008573709987103939, -0.011785726062953472, 0.0074551282450556755, 0.01910962350666523, -0.0028433219995349646, -0.0050429911352694035, -0.011092080734670162], [0.03856943920254707, 0.01257288083434105, 0.045143116265535355, 0.021219009533524513, -0.00542473653331399, 0.019561046734452248, 0.004548488650470972, 0.01831030286848545, -0.025073044002056122, -0.006751833483576775, 0.007584450300782919, -0.029566993936896324, -0.040052879601716995, 0.020011896267533302, 0.07091424614191055, 0.06777284294366837, -0.029596081003546715, 0.01787399686872959, -0.028665296733379364, 0.03696965053677559, 0.007948039099574089, 0.01992463506758213, -0.010834929533302784, 0.011998411267995834, -0.0074462867341935635, -0.0397329218685627, -0.034497249871492386, -0.012994643300771713, 0.010558602400124073, -0.03278111293911934, 0.04816816747188568, -0.037784088402986526, 0.014441724866628647, 0.009395119734108448, -0.022397035732865334, 0.014521714299917221, -0.013416405767202377, -0.010056850500404835, 0.026992790400981903, -0.03138493746519089, 0.00882792193442583, 0.00251057674176991, 0.024447672069072723, -0.06660936027765274, 0.006508229300379753, 0.021873468533158302, -0.041041839867830276, 0.003075956366956234, -0.026425592601299286, 0.01852845586836338, -0.03516625240445137, 0.012529250234365463, 0.01598333939909935, 0.07894227653741837, -0.01167118176817894, -0.0003615430323407054, -0.02476762980222702, 0.0502915233373642, 0.00855159480124712, -0.00788259319961071, -0.02206253446638584, 0.009395119734108448, 0.00029723337502218783, 0.015750642865896225, 0.01204204186797142, -0.03516625240445137, 0.0010116843041032553, 0.03763865306973457, 0.01316189393401146, -0.056777939200401306, 0.026585571467876434, 0.0338282473385334, 0.015619750134646893, -0.0069009047001600266, 0.02479671686887741, -0.006530044600367546, -0.05785416066646576, 0.0305704977363348, 0.034875381737947464, 0.005468367133289576, -0.004435776267200708, 0.0639333575963974, 0.021611684933304787, -0.02728366106748581, 0.015619750134646893, 0.05471275746822357, -0.03144311159849167, 0.048778995871543884, 0.0011262145126238465, -0.019313806667923927, 0.009787795133888721, -0.015590663067996502, -0.017437690868973732, 0.034904468804597855, 0.0117948018014431, 0.020520919933915138, -0.004010378383100033, -0.014354463666677475, 0.0397329218685627, 0.012223836034536362, -0.003225027583539486, -0.029756059870123863, -0.027458183467388153, -0.018412107601761818, -0.002256064908578992, 0.014696236699819565, -0.01871752180159092, -0.005944667384028435, -0.0046248422004282475, 0.01247834786772728, -0.03891848400235176, -0.0015525217168033123, -0.05788324773311615, -0.020899051800370216, 0.019328350201249123, -0.024665825068950653, 0.040518272668123245, -0.053520187735557556, 0.02377866953611374, -0.024753086268901825, 0.0017224992625415325, 0.03458451107144356, -0.008980629034340382, -0.04153632000088692, -0.007889864966273308, 0.062246304005384445, 0.0038322198670357466, 0.014878029935061932, -0.024447672069072723, -0.03984927013516426, 0.017743105068802834, -0.009693262167274952, 0.008624312467873096, -0.035457123070955276, -0.017263168469071388, 0.04901169240474701, -0.009715077467262745, -0.0028414421249181032, -0.09284588694572449, 0.042816150933504105, 0.05552719533443451, 0.026309244334697723, 0.017699474468827248, -0.031239500269293785, -0.04176901653409004, -0.07248494774103165, 0.0025487535167485476, 0.0063300710171461105, 0.027021877467632294, 0.002528756158426404, -0.0394129641354084, 0.04319428279995918, -0.05511997640132904, 0.01087856013327837, -0.01937198080122471, -0.004715739283710718, 0.029465189203619957, -0.022018903866410255, -0.01707410253584385, 0.023269645869731903, 0.010580417700111866, 0.012543793767690659, 0.013939972966909409, 0.013023730367422104, -0.014761681668460369, 0.009649631567299366, -0.033973682671785355, 0.020433658733963966, -0.05738876760005951, -0.0005044786958023906, -0.034526336938142776, 0.0010071394499391317, -0.048371776938438416, -0.018761152401566505, -0.029276125133037567, -0.030250540003180504, 0.02076816000044346, -0.021611684933304787, -0.03944205120205879, -0.03426455333828926, 0.030454149469733238, 0.060442905873060226, 0.00823890883475542, -0.020404571667313576, 0.020899051800370216, -0.006824551150202751, -0.01617240533232689, -0.0020051891915500164, -0.0029123416170477867, 0.0067336540669202805, 0.017583126202225685, 0.03362463787198067, 0.03993653133511543, 0.0033977320417761803, -0.007926223799586296, 0.011605735868215561, 0.017670387402176857, -0.0044975862838327885, 0.029872408136725426, 0.015343423001468182, -0.013430949300527573, 0.007548091467469931, -0.002861439250409603, -0.033071983605623245, -0.07097242027521133, -0.05962846800684929, 0.014412637799978256, 0.024229519069194794, -0.009082433767616749, -0.05279301106929779, 0.05130957067012787, -0.005602894816547632, -0.038714874535799026, 0.040081966668367386, -0.06358431279659271, -0.017059559002518654, 0.02725457400083542, -0.028912536799907684, -0.01375090703368187, 0.004512129817157984, -0.02865075320005417, 0.015212531201541424, 0.042845238000154495, 0.02476762980222702, -0.05477093160152435, 0.028330795466899872, 0.01263105496764183, 0.01921200193464756, 0.008726117201149464, -0.004210351500660181, 0.04895351827144623, 0.025843851268291473, 0.01223110780119896, -0.008195278234779835, 0.008478877134621143, -0.008282539434731007, -0.0073044877499341965, 0.014761681668460369, 0.007275400683283806, -0.019881004467606544, -0.01328551396727562, -0.030279627069830894, 0.0009771434124559164, 0.008820650167763233, -0.02427314966917038, 0.010871288366615772, 0.012303825467824936, -0.021408075466752052, -0.0431361086666584, 0.0471792072057724, 0.012078400701284409, 0.019502872601151466, -0.025320284068584442, -0.045172203332185745, 0.02228068746626377, -0.02622198313474655, 0.06050108000636101, -0.02277516759932041, 0.02252792753279209, 0.004773913417011499, -0.010558602400124073, 0.0053629265166819096, -0.047411903738975525, -0.07847688347101212, -0.04205988720059395, 0.02129172720015049, 0.041507232934236526, 0.0016025151126086712, 0.0305704977363348, 0.02101540006697178, -0.05910490080714226, 0.012318369001150131, 0.03760956600308418, -0.04246710613369942, 0.0215680543333292, 0.02383684366941452, -0.012180205434560776, -0.016026969999074936, 0.005875585600733757, 0.02566932886838913, 0.00014316286251414567, -0.0356898196041584, 0.03979109600186348, -0.003846763400360942, -0.022833341732621193, 0.033130157738924026, -0.007948039099574089, -0.007940767332911491, 0.0285489484667778, -0.0030741384252905846, -0.017990345135331154, -0.04537581279873848, -0.00022042536875233054, -0.0037122357171028852, -0.02380775660276413, 0.043776024132966995, 0.008755204267799854, -0.033566463738679886, -0.015866991132497787, -0.018353933468461037, 0.058930378407239914, 0.030221452936530113, -0.016797775402665138, -0.012791033834218979, -0.006002841517329216, 0.08022210747003555, 0.03502081707119942, -0.028621666133403778, 0.015605206601321697, -0.011322137899696827, 0.018237585201859474, 0.06236265227198601, 0.014921660535037518, 0.03656243160367012, -0.034875381737947464, -0.08987901359796524, -0.04267071560025215, -0.0360097773373127, 0.0008357984479516745, 0.015488858334720135, 0.05133865773677826, -0.05727241933345795, 0.0003454088291618973, -0.017524952068924904, -0.010900375433266163, 0.028883449733257294, 0.012805577367544174, -0.02159714139997959, 0.018135780468583107, -0.04319428279995918, -0.013976331800222397, 0.00010538377682678401, 0.030308714136481285, 0.021364444866776466, 0.011991139501333237, -0.022702449932694435, 0.04083823040127754, -0.01122033316642046, -0.03717326000332832, 0.014863486401736736, -0.033071983605623245, -0.030861368402838707, -0.03237389773130417, 0.024229519069194794, -0.01068949420005083, 0.03510807827115059, 0.011271235533058643, -0.02777814120054245, 0.05273483693599701, 0.07713887840509415, -0.017277712002396584, 0.019561046734452248, -0.007533547934144735, 0.01063132006675005, -0.006450055167078972, -0.010260459966957569, -0.008566138334572315, -0.01604151353240013, 0.027647249400615692, 0.0962199866771698, -0.012020226567983627, -0.019561046734452248, 0.026701919734477997, -0.009795066900551319, -0.004981158766895533, 0.013227339833974838, -0.04851721227169037, -0.0305704977363348, 0.041390884667634964, -0.01951741613447666, -0.013387318700551987, -0.011954780668020248, 0.014325376600027084, -0.024534933269023895, -0.04339789226651192, 0.01316189393401146, 0.0029723336920142174, 0.029465189203619957, 0.009875056333839893, 0.020942682400345802, 0.034962642937898636, -0.011591192334890366, 0.033071983605623245, -0.052967533469200134, 0.03792952373623848, -0.0028887083753943443, 0.00704634003341198, 0.001680686604231596, -0.016332384198904037, -0.01250743493437767, 0.02923249453306198, 0.022513383999466896, 0.026701919734477997, -0.049244388937950134, -0.07004163414239883, -0.03519533947110176, 0.017670387402176857, 0.033042896538972855, 0.015910621732473373, 0.03531168773770332, 0.026527397334575653, -0.005599258933216333, -0.027327291667461395, -0.005981026217341423, -0.02107357420027256, 0.008413431234657764, -0.021495336666703224, 0.027487270534038544, -0.018019432201981544, -0.010514971800148487, 0.008689758367836475, -0.010245916433632374, 0.022091621533036232, 0.038714874535799026, 0.01500892173498869, 0.01601242646574974, -0.03385733440518379, -0.023705951869487762, -0.024098627269268036, 0.005708335433155298, 0.038220394402742386, -0.002463310258463025, 0.017263168469071388, -0.016317840665578842, 0.004108546767383814, 0.0152852488681674, -0.003388642333447933, -0.02137898840010166, 0.01503800880163908, 0.003937660716474056, 0.04272888973355293, -0.02873801440000534, -0.009329673834145069, -0.02082633413374424, 0.006915448233485222, -0.00545382359996438, -0.01579427346587181, 0.030686846002936363, 0.025102131068706512, 0.022338861599564552, -0.07556817680597305, 0.009598729200661182, -0.021422619000077248, -0.03839491680264473, -0.0509023517370224, 0.009256956167519093, -0.004384873900562525, -0.02799629420042038, -0.019415611401200294, -0.028447143733501434, 0.011293050833046436, -0.0651550143957138, -0.012521978467702866, 0.01855754293501377, -0.016070600599050522, 0.03833674266934395, 0.03554438427090645, 0.0061628203839063644, 0.0273127481341362, -0.020070070400834084, -0.008108017966151237, -0.015837904065847397, -0.011685725301504135, 0.05980299040675163, 0.02827262133359909, 0.03158854693174362, 0.010893103666603565, 0.03417729213833809, 0.04988430440425873, 0.02498578280210495, 0.01461624726653099, 0.02290605753660202, 0.044241417199373245, 0.020317310467362404, -0.04301976040005684, -0.006929991766810417, 0.05418919026851654, -0.04310702160000801, 0.04505585506558418, -0.0033759167417883873, -0.03251933306455612, -0.04491041973233223, -0.009795066900551319, -0.0012098398292437196, -0.033479202538728714, 0.03472994640469551, 0.021117204800248146, 0.005824683234095573, 0.009707805700600147, -0.002283334033563733, 0.02561115473508835, 0.05593441426753998, 0.00388312223367393, -0.01812123693525791, 0.009882328100502491, -0.0038976657669991255, -0.0016270573250949383, 0.013380046933889389, 0.013983603566884995, -0.05884311720728874, 0.013576384633779526, 0.013823624700307846, -0.01716136373579502, -0.0006017385167069733, 0.021306270733475685, 0.016565078869462013, 0.00864612776786089, 0.0033450117334723473, 0.0011262145126238465, -0.0178449098020792, 0.021655315533280373, -0.009504196234047413, -0.030395975336432457, 0.0020197327248752117, -0.05331657826900482, -0.0347590334713459, 0.011467572301626205, -0.005053876433521509, 0.01284920796751976, -0.019546503201127052, 0.015648838132619858, 0.013670917600393295, 0.029101602733135223, 0.01844119466841221, -0.008660671301186085, 0.017583126202225685, 0.005359290633350611, -0.05593441426753998, -0.02457856386899948, -0.045579422265291214, 0.006355522200465202, -0.034031856805086136, 0.012391086667776108, 0.016899580135941505, -0.027632705867290497, -0.0011752989375963807, 0.029494276270270348, 0.04171084240078926, -0.009940502233803272, -0.013918157666921616, 0.008217093534767628, 0.007453558500856161, -0.01849936880171299, -0.012805577367544174, 0.017714018002152443, 0.031326763331890106, -0.015576119534671307, -0.004821179900318384, -0.0025669329334050417, 0.022702449932694435, -0.02783631533384323, -0.01803397573530674, 0.0036958742421120405, 0.021277183666825294, 0.03432272747159004, 0.0285489484667778, 0.004224895033985376, -0.014994378201663494, 0.009038803167641163, -0.03423546627163887, -0.015779729932546616, 0.0024742179084569216, -0.0019306534668430686, -0.03560255840420723, 0.014005418866872787, -1.1639083822956309e-05, 0.012456532567739487, 0.022920601069927216, 0.008558866567909718, 0.008929726667702198, 0.00713723711669445, 0.0124129019677639, -0.021553510800004005, -0.04991339147090912, 0.01948832906782627, 0.034497249871492386, -0.001003503566607833, 0.002270608441904187, -0.012558337301015854, -0.02424406260251999, -0.026803724467754364, -0.020971769466996193, 0.005733786150813103, -0.007079062983393669, -0.014143582433462143, -0.002374231116846204, 0.031326763331890106, -0.04130362346768379, -0.0016052420251071453, 0.038162220269441605, 0.014405366033315659, -0.006293712183833122, -0.018324846401810646, -0.004915712866932154, -0.009380576200783253, 0.02055000700056553, 0.009620544500648975, -0.024534933269023895, -0.017946714535355568, -0.009206053800880909, 0.011969324201345444, 0.01257288083434105, 0.011998411267995834, 0.008587953634560108, -0.01201295480132103, -0.01353275403380394, -0.02175712026655674, -0.015168900601565838, 0.009198782034218311, 0.012376543134450912, 0.013634558767080307, 0.030221452936530113, 0.040576446801424026, 0.04819725453853607, -0.0019506508251652122, 0.05872677266597748, -0.02274608053267002, -0.03525351360440254, 0.021306270733475685, -0.037231434136629105, -0.03147219866514206, 0.01855754293501377, -0.020186418667435646, 0.028781644999980927, -0.0068609099835157394, 0.016216035932302475, -0.049273476004600525, -0.0013207342708483338, 0.0011725720250979066, -0.008515235967934132, -0.0341482050716877, -0.007042704150080681, 0.01945924200117588, 0.0024996690917760134, 0.01672505773603916, 0.012500163167715073, -0.010391351766884327, -0.003199576400220394, 0.029537906870245934, 0.0033104708418250084, 0.03478812053799629, 0.0540146678686142, -0.004683016333729029, -0.03484629467129707, 0.015488858334720135, -0.025131218135356903, 0.03048323653638363, -0.017364973202347755, -0.02851986140012741, 0.02734183520078659, 0.01641964353621006, 0.013416405767202377, 0.021189922466874123, 0.01762675680220127, -0.011285779066383839, -0.013387318700551987, -0.024564020335674286, 0.0033413758501410484, 0.01004230696707964, 0.002717822091653943, -0.0004222168354317546, 0.019590133801102638, 0.026454679667949677, -0.025305740535259247, -0.003572254441678524, -0.03298472240567207, -0.012085672467947006, -0.04115818813443184, -0.03513716533780098, -0.005395649466663599, -0.008747932501137257, 0.017495865002274513, 0.006293712183833122, -0.0098532410338521, 0.005602894816547632, 0.01213657483458519, 0.03190850466489792, -0.02523302286863327, -0.05034969747066498, -0.0024687640834599733, -0.0251457616686821, -0.002088814275339246, -0.016710514202713966, 0.03103589080274105, -0.0009021533187478781, -0.0066900234669446945, 0.02771996706724167, 0.0027414553333073854, 0.005901036784052849, 0.014638062566518784, -0.020288223400712013, 0.0033195605501532555, 0.013707276433706284, 0.025218479335308075, -0.005519269499927759, -0.011562105268239975, 0.01943015493452549, 0.0012998279416933656, -0.042350757867097855, -0.0468592494726181, 0.02228068746626377, -0.014812584035098553, -0.006151912733912468, -0.0021306269336491823, -0.07527730613946915, -0.03920935466885567, 0.0235896036028862, 0.0509023517370224, 0.02361869066953659, -0.006348250433802605, 0.00870430190116167, 0.03551529720425606, -0.008777019567787647, -0.0003644971875473857, 0.005264757666736841, 0.011540289968252182, 0.005704699549823999, -0.03324650600552559, -0.010333177633583546, -0.030657758936285973, -0.013605471700429916, 0.0412745364010334, -0.01500892173498869, -0.0005503816646523774, 0.01657962240278721, -0.01896476186811924, 0.007489917334169149, -0.06707475334405899, -0.020055526867508888, 0.04770277440547943, -0.000472210202133283, 0.003032325766980648, 0.009249684400856495, -0.004748462233692408, -0.02830170840024948, 0.02892708033323288, -0.029683342203497887, -0.03504990413784981, -0.02681826800107956, -0.03804587200284004, 0.013700004667043686, -0.011380312032997608, -0.00617736391723156, 0.04901169240474701, -0.036795128136873245, -0.003992198966443539, -0.028010837733745575, 0.001158937462605536, -0.055759891867637634, -0.008057115599513054, -0.00661003403365612, 0.011925693601369858, -0.028258077800273895, -0.005064784083515406, -0.029726972803473473, -0.04796455800533295, -0.06463144719600677, -0.015866991132497787, -0.01415085420012474, 0.014194484800100327, 0.04546307399868965, -0.01666688360273838, 0.02632378786802292, -0.00035813439171761274, -0.014034505933523178, 0.002081542508676648, -0.012296553701162338, -0.0403437502682209, 0.020724529400467873, 0.02712368220090866, -0.032199375331401825, -0.002646922366693616, 0.015663381665945053, 0.01682686246931553, -0.006726382300257683, 0.009802338667213917, -0.01553248893469572, -0.01973556913435459, -0.01328551396727562, 0.052560314536094666, 0.03141402453184128, -0.013176437467336655, -0.047935470938682556, 0.045695770531892776, -0.004014014266431332, 0.011074897833168507, 0.029566993936896324, 0.009555098600685596, 0.00948238093405962, -0.008318898268043995, -0.000371314468793571, 0.03243207186460495, -0.006991801783442497, -0.008995172567665577, 0.03900574520230293, -0.017714018002152443, 0.01639055646955967, -0.02703642100095749, -0.01340913400053978, 0.003537713550031185, 0.02799629420042038, -0.0016825045458972454, -0.013540025800466537, 0.016623253002762794, 0.02622198313474655, 0.016841406002640724, 0.021059030666947365, -0.0050247893668711185, -0.0025051229167729616, -2.8206493880134076e-05, -0.045579422265291214, 0.05913398787379265, 0.03711508587002754, 0.018921131268143654, -0.012747403234243393, 0.016186948865652084, 0.008500692434608936, 0.03187941759824753, 0.011736627668142319, 0.02265881933271885, -0.004868446383625269, -0.024913065135478973, 0.012951012700796127, -0.03554438427090645, 0.06742379814386368, 0.02873801440000534, -0.022367948666214943, 0.020986313000321388, 0.007664439734071493, 0.042379844933748245, 0.017888540402054787, -0.004719375167042017, -0.03243207186460495, -0.007729885634034872, -0.0020833604503422976, 0.029072515666484833, -0.04674290120601654, 0.00311958696693182, -0.0977906882762909, -0.01579427346587181, 0.011758442968130112, -0.008951541967689991, -0.00929331500083208, -0.06166456267237663, -0.024534933269023895, -0.011685725301504135, -0.02011370100080967, -0.05087326467037201, -0.015605206601321697, -0.00818073470145464, 0.0076789832673966885, -0.01284920796751976, 0.0036449721083045006, 0.0022378854919224977, -0.037755001336336136, -0.02181529439985752, 0.001015320187434554, -0.016681427136063576, 0.007664439734071493, -0.007482645567506552, -0.02241157926619053, 0.048778995871543884, 0.006322799250483513, -0.0291743203997612, 0.02843260020017624, -0.010776755400002003, 0.0406637080013752, 0.02566932886838913, 0.0042212591506540775, -0.022018903866410255, 0.011351224966347218, -0.0016134227626025677, -0.008158920332789421, -0.02315329760313034, 0.0019833738915622234, -0.024636738002300262, -0.045172203332185745, 0.017452234402298927, -0.0032922914251685143, -0.02159714139997959, 0.033130157738924026, -4.976613854523748e-05, 0.00957691390067339, -0.007151780650019646, 0.012172933667898178, -0.002590566175058484, -0.03717326000332832, 0.014005418866872787, 0.0224988404661417, 0.010478612966835499, 0.028127186000347137, -0.011140343733131886, 0.01765584386885166, 0.008842465467751026, -0.005133865866810083, -0.023575060069561005, -0.022949688136577606, 0.026527397334575653, -0.014965291135013103, -0.00713723711669445, -0.03609703853726387, 2.198572656197939e-05, 0.016026969999074936, -0.02113174833357334, -0.045579422265291214, 0.004253982100635767, 0.025582067668437958, 0.007315395399928093, -0.024753086268901825, -0.01090764719992876, -0.06236265227198601, -0.06742379814386368, 0.003299563191831112, -0.03333376720547676, 0.06119916960597038, -0.03231572359800339, -0.004675744567066431, -0.0288689061999321, 0.038133133202791214, -0.031297676265239716, -0.00898790080100298, 0.01068949420005083, -0.017030471935868263, 0.007289944216609001, -0.007366297300904989, -0.015328879468142986, -0.026920072734355927, 0.011634822934865952, 0.01998280920088291, -0.059424858540296555, -0.00889336783438921, 0.039093006402254105, -0.011162159033119678, -0.004777549300342798, 0.017772192135453224, -0.04525946453213692, -0.009518739767372608, -0.021059030666947365, 0.004304884467273951, 0.000573105935472995, -0.0023015134502202272, -0.015357966534793377, -0.0007558090146631002, -0.041390884667634964, 0.00960600096732378, -0.02870892733335495, -0.018295759335160255, -0.006599126383662224, 0.03467177227139473, -0.0028414421249181032, 0.03246115893125534, -0.05043695867061615, 0.054392799735069275, -0.0474991649389267, -0.01921200193464756, -0.014034505933523178, 0.023226015269756317, 0.05032061040401459, 0.014289017766714096, 0.011562105268239975, 0.019081110134720802, -0.02203344739973545, -0.0034468164667487144, -0.005002974066883326, 0.0004183537093922496, -0.018950218334794044, 0.005795596167445183, -0.006250081583857536, 0.028854362666606903, 0.05098961293697357, -0.02750181406736374, -0.03379916027188301, 0.037231434136629105, 0.03185033053159714, 0.010158655233681202, -0.0010762211168184876, 0.04110001400113106, -0.008086202666163445, 0.010616776533424854, -0.015314335934817791, 0.024622194468975067, 0.019008392468094826, 0.0014652605168521404, -0.00533020356670022, -0.019139284268021584, 0.039558399468660355, 0.0009398755501024425, -0.0020051891915500164, -0.011380312032997608, 0.009438750334084034, -0.022149795666337013, -0.020273679867386818, 0.017466777935624123, 0.024316780269145966, -0.017277712002396584, 0.00162160350009799, -0.025843851268291473, -0.053927406668663025, -0.0003817676333710551, 0.03202485293149948, 0.026745550334453583, 0.001584335695952177, -0.01740860380232334, 0.036300648003816605, 0.016463274136185646, 0.01436900720000267, 0.031268589198589325, -0.0026487403083592653, -0.01921200193464756, -0.02529119700193405, 0.046481117606163025, -0.0012262013042345643, 0.012252923101186752, 0.017801279202103615, -0.005442915949970484, -0.024971239268779755, -0.001090764650143683, -0.029276125133037567, -0.03749321773648262, -0.018397564068436623, 0.03790043666958809, -0.013227339833974838, -0.0003976746229454875, -0.018761152401566505, -0.0007989851292222738, -0.011503931134939194, 0.010820385999977589, 0.03798769786953926, 0.039122093468904495, -0.013176437467336655, 0.017641300335526466, 0.01056587416678667, 0.01896476186811924, 0.011809345334768295, 0.03781317546963692, 0.003597705624997616, 0.010115024633705616, 0.002119719283655286, -0.018950218334794044, -0.01216566190123558, 0.009547826834022999, -0.010056850500404835, 0.0050466046668589115, 0.02110266126692295, 0.0018215770833194256, 0.028112642467021942, -0.0028123550582677126, 0.030395975336432457, -0.02734183520078659, 0.03158854693174362, 0.01424538716673851, -0.009242412634193897, -0.01226019486784935, -0.006879089400172234, -0.03327559307217598, -0.005413828883320093, 0.024127714335918427, -0.0038176763337105513, 0.009802338667213917, 0.004112182650715113, -0.012216564267873764, -0.013816352933645248, -0.011351224966347218, -0.036329735070466995, 0.022600645199418068, 0.01567792519927025, -0.007555363234132528, 0.015445227734744549, -0.0001905429526232183, 0.0003149583062622696, -0.034468162804841995, 0.018572086468338966, 0.00011839341459563002, 0.016899580135941505, -0.01472532283514738, 0.015023465268313885, -0.03161763399839401, -0.03385733440518379, 0.0360097773373127, -0.024069540202617645, -0.0406637080013752, 0.014448996633291245, 0.02230977453291416, -0.02274608053267002, 0.0016052420251071453, -0.020346397534012794, 0.0049847946502268314, -0.01844119466841221, 0.002848713891580701, 0.011140343733131886, -0.0032541146501898766, 0.018324846401810646, 0.006504593417048454, 0.037202347069978714, -0.04200171306729317, 0.011111256666481495, 0.0524439662694931, -0.013249155133962631, 0.002974151633679867, -0.0004981158999726176, -0.03138493746519089, 0.04299067333340645, -0.010936734266579151, -0.03891848400235176, -0.024811260402202606, -0.012638326734304428, 0.010078665800392628, -0.004246710333973169, -0.025131218135356903, -0.0008726117666810751, 0.0029123416170477867, 0.0063627939671278, -0.026178352534770966, 0.013721819967031479, 0.010558602400124073, -0.004141269717365503, -0.05500362813472748, 0.009227869100868702, -0.018892044201493263, -0.007962582632899284, -0.0005612893146462739, -0.011707540601491928, 0.01625966653227806, 0.01066040713340044, -0.011133071966469288, -0.013496395200490952, -0.014136310666799545, 0.01235472783446312, -0.02550935000181198, 0.006151912733912468, 0.0013570931041613221, 0.0007785332854837179, 0.04255436733365059, -0.036853302270174026, 0.005988297984004021, -0.008558866567909718, -0.013394590467214584, 0.02383684366941452, -0.018732065334916115, 0.03318833187222481, 0.020157331600785255, 0.016274210065603256, -0.005784688517451286, 0.026716463267803192, -0.003941296599805355, -0.022818798199295998, 0.005591987166553736, 0.1241435632109642, -0.009649631567299366, 0.020404571667313576, 0.0028414421249181032, 0.029057972133159637, -0.01775764860212803, -0.006279168650507927, -0.008631584234535694, 0.00901698786765337, -0.02088450826704502, -0.0018406653543934226, 0.0035340776666998863, -0.0006939990562386811, -0.03560255840420723, -0.035457123070955276, 0.014550801366567612, 0.01007139403373003, -0.030337801203131676, -0.00213789870031178, -0.007548091467469931, 0.033101070672273636, -0.01131486613303423, -0.004872082266956568, 0.03571890667080879, -0.011751171201467514, -0.02476762980222702, 0.008689758367836475, -0.018513912335038185, 0.03603886440396309, 0.008217093534767628, -0.004373966250568628, -0.0016425098292529583, -0.012921925634145737, -0.02041911520063877, 0.008464333601295948, -0.01735042966902256, -0.04488133266568184, -0.014289017766714096, -0.033566463738679886, 0.017219537869095802, 0.012761946767568588, 0.027821771800518036, -0.0002440585958538577, -0.01598333939909935, -0.012005683034658432, 0.012100216001272202, 0.018150324001908302, -0.03842400386929512, -0.016463274136185646, 0.0184702817350626, -0.01461624726653099, -0.0036304285749793053, -0.028345339000225067, 0.014696236699819565, -0.014739866368472576, -0.02977060340344906, -0.009380576200783253, 0.006646392866969109, 0.05593441426753998, -0.028345339000225067, -0.05142591893672943, -0.008711573667824268, 0.02725457400083542, -0.0017879451625049114, -0.0037522304337471724, -0.012151118367910385, -0.017612213268876076, -0.00275781680829823, -0.00882792193442583, 0.002112447516992688, -0.008369800634682178, -0.03926752880215645, 0.04630659520626068, -0.008195278234779835, -0.0166087094694376, -0.01905202306807041, -0.013394590467214584, -0.011111256666481495, -0.00014838944480288774, 0.040460098534822464, 0.005944667384028435, 0.02082633413374424, 0.005551992449909449, -0.025247566401958466, 0.01628875359892845, -0.022397035732865334, 0.041507232934236526, 0.014565344899892807, -0.029407016932964325, -0.03193759173154831, -0.027138225734233856, 0.016506904736161232, 0.006599126383662224, 0.029348842799663544, 0.000654004339594394, 0.016681427136063576, -0.004795728716999292, -0.00037972244899719954, 0.026992790400981903, 0.0010289546335116029, 0.018150324001908302, 0.019066566601395607, -0.044270504266023636, 0.008449790067970753, -0.0076353526674211025, -0.011613007634878159, -0.025582067668437958, 0.00916969496756792, -0.005559264216572046, 0.07126329094171524, 0.021277183666825294, 0.005810139700770378, -0.0025760226417332888, -0.004821179900318384, 0.022382492199540138, -0.022091621533036232, -0.01235472783446312, 0.007846234366297722, -0.008158920332789421, -0.050640568137168884, -0.009467837400734425, 0.013765450567007065, 0.006166456267237663, -0.005937395617365837, -0.02277516759932041, 0.008907911367714405, 0.010842201299965382, 0.0022287957835942507, 0.00554835656657815, -0.021146291866898537, -0.0034213652834296227, -0.02169894613325596, 0.04072188213467598, 0.009620544500648975, 0.0036758771166205406, 0.01601242646574974, -0.020491832867264748, 0.004297612700611353, 0.025523893535137177, 0.018673891201615334, -0.005137501750141382, -0.010369536466896534, -0.022295230999588966, -0.04819725453853607, 0.031792156398296356, 0.021117204800248146, 0.014798040501773357, 0.04662655293941498, -0.014667149633169174, 0.013569112867116928, -0.0007998941000550985, -0.034468162804841995, -0.006195543333888054, -0.014499898999929428, -0.0048139081336557865, 0.010369536466896534, -0.011656638234853745, 0.027850858867168427, 0.005693791899830103, 0.022178882732987404, 0.0015279795043170452, -0.004933892283588648, -0.022731536999344826, -0.005315660033375025, -0.0037122357171028852, 0.03333376720547676, 0.005882857367396355, -0.002630560891702771, -0.0027232759166508913, -0.025872938334941864, -0.018237585201859474, -0.010864016599953175, 0.02849077433347702, 0.017830366268754005, -0.0254511758685112, -0.01663779653608799, 0.0018761152168735862, 0.007555363234132528, -0.0431361086666584, 0.006737289950251579, -0.002935974858701229, -0.048808082938194275, -0.011569377034902573, -0.016376012936234474, 2.692825364647433e-05, 0.029377929866313934, 0.002361505525186658, -0.016550535336136818, 0.002274244325235486, -0.003379552625119686, 0.02175712026655674, -0.0006649119895882905, 0.0015197987668216228, 0.02566932886838913, 0.0021106295753270388, -0.022106165066361427, -0.017234081402420998, -0.0027323656249791384, 0.010544058866798878, 0.0022887878585606813, 0.0019142919918522239, 0.005999205633997917, 0.014572616666555405, 0.0549454540014267, 0.004606662783771753, -0.000692635599989444, 0.0055556283332407475, 0.029756059870123863, -0.021626228466629982, 0.021277183666825294, 0.03891848400235176, -0.011969324201345444, 0.011067626066505909, 0.03333376720547676, -0.013452764600515366, -0.0024742179084569216, 0.017932171002030373, 0.005072055850178003, 0.0069845300167799, 0.023109667003154755, 0.009126064367592335, -0.00010799706797115505, 0.011496659368276596, 0.006220994517207146, -0.02356051653623581, -0.009678718633949757, -0.015619750134646893, -0.03830765560269356, -0.019822830334305763, -0.024069540202617645, -0.014470811933279037, 0.009969589300453663, 0.009751436300575733, -0.021088117733597755, -0.008326170034706593, 0.013845440000295639, -0.01550340186804533, -0.047411903738975525, 0.010573145933449268, 0.027952663600444794, 0.005919216200709343, -0.00439941743388772, -0.01765584386885166, -0.026585571467876434, 0.000928967900108546, -0.02150988020002842, 0.028636209666728973, 0.0045593963004648685, -0.010813114233314991, 0.02529119700193405, -0.015343423001468182, -0.0016861404292285442, 0.020026439800858498, -0.015561576001346111, -0.003763138083741069, -0.00951146800071001, 0.017146820202469826, -0.0496516078710556, 0.004606662783771753, -0.01951741613447666, -0.04723738133907318, 0.026701919734477997, 0.03324650600552559, -0.007119057700037956, 0.018702978268265724, 0.034526336938142776, -0.021626228466629982, 0.023967735469341278, -0.011882063001394272, 0.007253585383296013, -0.006071923300623894, -0.012187477201223373, -0.035369861871004105, 0.01228928193449974, -0.03842400386929512, 0.014107223600149155, -0.0034286370500922203, 0.006413696333765984, -0.024258606135845184, 0.031123152002692223, 0.007831690832972527, -0.018412107601761818, -0.006853638216853142, -0.03054141066968441, -0.004701195750385523, 0.039122093468904495, 0.00028837090940214694, 0.026934616267681122, -0.012536522001028061, -0.02036094106733799, -0.010827657766640186, 0.0235896036028862, -0.004701195750385523, -0.021960729733109474, -0.006333706900477409, 0.0008285266812890768, -0.011911150068044662, -0.027327291667461395, 0.03484629467129707, 0.021335357800126076, -0.004064916633069515, -0.009198782034218311, 0.020491832867264748, 0.03211211413145065, -0.015110726468265057, 0.014049049466848373, 0.008289811201393604, 0.03699873760342598, 0.016754144802689552, -0.011183974333107471, 0.0024305873084813356, -0.02492760866880417, -0.0033450117334723473, -0.02594565600156784, 0.02796720713376999, 0.01899384893476963, -0.002007007133215666, 0.026614658534526825, 0.022426122799515724, -0.007166324183344841, 0.005693791899830103, 0.004570303950458765, 0.00567197659984231, -0.02476762980222702, -0.029814234003424644, 0.01402723416686058, -0.019851917400956154, 0.038191307336091995, 0.018950218334794044, -0.004450319800525904, -0.003984927199780941, -0.010275003500282764, 0.009053346700966358, 0.00045857566874474287, 0.00707542710006237, -0.018790239468216896, -0.030395975336432457, -0.02290605753660202, -0.02796720713376999, -0.02923249453306198, 0.009889599867165089, -0.007809875067323446, 0.011023995466530323, -0.004297612700611353, 0.01044225413352251, 0.02958153747022152, 0.04357241466641426, 0.030657758936285973, 0.003085046075284481, 0.04546307399868965, -0.013707276433706284, 0.0029287030920386314, 0.015212531201541424, -0.017335886135697365, -0.04703377187252045, -0.027865402400493622, 0.012274738401174545, -0.031297676265239716, 0.010558602400124073, -0.014034505933523178, -0.006802735850214958, -0.005228398833423853, -0.043746937066316605, -0.01858663000166416, -0.012332912534475327, 0.01812123693525791, 0.0041376338340342045, 0.004508493933826685, -0.02134990133345127, 0.02681826800107956, -0.023909561336040497, -0.04214714840054512, 0.030366888269782066, -0.011358496733009815, 0.03275202587246895, -0.014834399335086346, -0.030832281336188316, 0.051600441336631775, -0.014667149633169174, 0.01893567480146885, 0.00014020870730746537, -0.015241618268191814, 0.006108282133936882, -0.010020491667091846, 0.01983737386763096, -0.010187742300331593, -0.007802603300660849, 0.007333574816584587, -0.016303297132253647]]\n"
     ]
    }
   ],
   "source": [
    "client = OpenAI()\n",
    "\n",
    "def get_embeddings(text,model=\"text-embedding-3-small\",dimensions=None):\n",
    "    if dimensions is None:\n",
    "        data = client.embeddings.create(input=text,model=model).data\n",
    "    else:\n",
    "        data = client.embeddings.create(input=text,model=model,dimensitions=dimensions).data\n",
    "    return [record.embedding for record in data]\n",
    "\n",
    "test_query = [\"测试文本\",\"abc\"]\n",
    "test_embeddings = get_embeddings(test_query)\n",
    "print(len(test_embeddings))\n",
    "print(len(test_embeddings[0]))\n",
    "print(test_embeddings)"
   ]
  },
  {
   "cell_type": "code",
   "execution_count": 47,
   "metadata": {},
   "outputs": [
    {
     "name": "stdout",
     "output_type": "stream",
     "text": [
      "query_vec 和自身的余弦距离1.0\n",
      "query_vec 和 doc_vecs_list 的相似度:\n",
      "0.3456496780129385\n",
      "0.28174757051137067\n",
      "0.19817267934082308\n",
      "0.18751817834041917\n",
      "0.17089020830345558\n",
      "\n",
      "query_vec 和自身的欧式距离0.0\n",
      "query_vec 和 doc_vecs_list 的相似度:\n",
      "1.1439845331208756\n",
      "1.1985428109824365\n",
      "1.2663548914840785\n",
      "1.274740601037181\n",
      "1.2877187758375583\n"
     ]
    }
   ],
   "source": [
    "query='国际争端'\n",
    "documents=[\n",
    "    \"联合国就苏丹达尔富尔地区大规模暴力事件发出警告\",\n",
    "    \"土耳其、芬兰、瑞典与北约代表将继续就瑞典“入约”问题进行谈判\",\n",
    "    \"日本岐阜市陆上自卫队射击场内发生枪击事件 3人受伤\",\n",
    "    \"国家游泳中心（水立方）：恢复游泳、嬉水乐园等水上项目运营\",\n",
    "    \"我国首次在空间站开展舱外辐射生物学暴露实验\"\n",
    "]\n",
    "\n",
    "query_vec = get_embeddings(query)[0]\n",
    "doc_vecs_list = get_embeddings(documents)\n",
    "print(f'query_vec 和自身的余弦距离{cos_sim(query_vec,query_vec)}')\n",
    "print('query_vec 和 doc_vecs_list 的相似度:')\n",
    "for i in doc_vecs_list:\n",
    "    print(cos_sim(query_vec,i))\n",
    "\n",
    "print()\n",
    "\n",
    "print(f'query_vec 和自身的欧式距离{l2(query_vec,query_vec)}')\n",
    "print('query_vec 和 doc_vecs_list 的相似度:')\n",
    "for i in doc_vecs_list: \n",
    "    print(l2(query_vec,i))"
   ]
  },
  {
   "cell_type": "markdown",
   "metadata": {},
   "source": [
    "### 7. 封装向量数据库的操作函数"
   ]
  },
  {
   "cell_type": "code",
   "execution_count": null,
   "metadata": {},
   "outputs": [],
   "source": [
    "pip install --upgrade pip"
   ]
  },
  {
   "cell_type": "code",
   "execution_count": null,
   "metadata": {},
   "outputs": [],
   "source": [
    "pip install chromadb -v"
   ]
  },
  {
   "cell_type": "code",
   "execution_count": null,
   "metadata": {},
   "outputs": [
    {
     "name": "stdout",
     "output_type": "stream",
     "text": [
      "（5）为强化异网客户获取，进一步释放靓号资源，AAA（非6/8/9）级靓号预存调整为500元，不带4号码保底调整为129元，带4号码保底调整为100元。\n",
      "\n"
     ]
    }
   ],
   "source": [
    "import chromadb\n",
    "from chromadb.config import Settings\n",
    "\n",
    "# chroma_client = chromadb.Client(Settings(allow_reset=True))\n",
    "\n",
    "\n",
    "# chroma_client = chromadb.EphemeralClient()\n",
    "\n",
    "class vector_db_handler:\n",
    "    def __init__(self,collection_name,embedding_fn):\n",
    "        db_client = chromadb.EphemeralClient(Settings(allow_reset=True))\n",
    "        db_client.reset()\n",
    "        self.collection = db_client.get_or_create_collection(name=collection_name)\n",
    "        self.embedding_fn = embedding_fn\n",
    "\n",
    "    def add_documents(self,documents):\n",
    "        self.collection.add(\n",
    "            documents=documents,\n",
    "            embeddings=self.embedding_fn(documents),\n",
    "            # metadatas=[{\"chapter\": \"3\", \"verse\": \"16\"}, {\"chapter\": \"3\", \"verse\": \"5\"}, {\"chapter\": \"29\", \"verse\": \"11\"}, ...],\n",
    "            ids=[f\"id{i}\" for i in range(len(documents))]\n",
    "        )\n",
    "    def query_documents(self,query_string,n_results=1):\n",
    "        results = self.collection.query(\n",
    "            query_embeddings = self.embedding_fn([query_string]),\n",
    "            n_results=n_results\n",
    "        )\n",
    "        return results\n",
    "        \n",
    "vector_db = vector_db_handler('demo',get_embeddings)\n",
    "vector_db.add_documents(['（5）为强化异网客户获取，进一步释放靓号资源，AAA（非6/8/9）级靓号预存调整为500元，不带4号码保底调整为129元，带4号码保底调整为100元。',\n",
    " '（6）融合加装第二条宽带首年半价体验政策延期。（7）为落实省分公司划小积分管理要求，自8月起对办理U享小金融模式一的员工积分核算规则进行优化，由原T+1月手工核算调整为系统自动核算（分3个月核算月包积分+宽带组网积分，以39.9元FTTR小金融为例，39.9元分3个月出120积分+120元FTTR积分，总分240分不变）。',\n",
    " '2.存量侧重点落实流量经营攻坚、融合化攻坚两项工作。（1）流量运营攻坚：重点攻坚底部低活跃客户重点客群，开展流量促活攻坚。流量促活使用省公司统一产品及激励，无门槛“促活、保活”产品按2分（元）/户标准核发受理积分/激励，对于促活成功（促活后流量>1GB）次月、次次月（回落至1GB及以下不予核发），按5分（元）/月核发促活积分/激励。',\n",
    " '（2）融合化攻坚：针对入网6个月及以上存量名单制用户，新增“宽带月包”产品启动专项迁转，稳定用户在网。',\n",
    " '（3）新增产品及策略、组织要求见附件2。（4）三季度大流量包政策参照二季度继续延期。（二）营销组织',\n",
    " '1.城区市场攻坚一是全面推进以店包片，三季度全市区县分四批完成责任田划分、1+2责任人落位。二是刚性落实包区动作，包区自控社区店参照自营厅模式开展标准化运营。三是产能提升责任落实，三'])\n",
    "results = vector_db.query_documents(\"靓号政策\")\n",
    "\n",
    "for i in results['documents'][0]:\n",
    "    print(i + '\\n')\n"
   ]
  },
  {
   "cell_type": "markdown",
   "metadata": {},
   "source": [
    "### 8. 封装RAG类"
   ]
  },
  {
   "cell_type": "code",
   "execution_count": 85,
   "metadata": {},
   "outputs": [
    {
     "name": "stdout",
     "output_type": "stream",
     "text": [
      "['联通宜昌营销字〔2024〕31号 关于开展公众市场三季度营销活动的通知各区县分公司：', '三季度是全年承上启下的关键节点，锁定三季度主营收入增长、用户规模净增、发展结构改善的主目标,宜昌分公司决定组织开展公众市场三季度营销活动，具体内容如下：', '一、活动时间2024年7月1日-2024年9月30日二、营销目标全市移网发展7万户，移网净增9534户；宽带发展1.86万户，宽带净增10625户；129元及以上实收高套发展7360户，FTTR发展4600户，奋力实现三季度收入预算完成率75%。', '三、营销部署（一）市场策略1.发展侧', '联通宜昌营销字〔2024〕31号 关于开展公众市场三季度营销活动的通知各区县分公司：', '三季度是全年承上启下的关键节点，锁定三季度主营收入增长、用户规模净增、发展结构改善的主目标,宜昌分公司决定组织开展公众市场三季度营销活动，具体内容如下：', '一、活动时间2024年7月1日-2024年9月30日二、营销目标全市移网发展7万户，移网净增9534户；宽带发展1.86万户，宽带净增10625户；129元及以上实收高套发展7360户，FTTR发展4600户，奋力实现三季度收入预算完成率75%。', '三、营销部署（一）市场策略1.发展侧', '联通宜昌营销字〔2024〕31号 关于开展公众市场三季度营销活动的通知各区县分公司：', '三季度是全年承上启下的关键节点，锁定三季度主营收入增长、用户规模净增、发展结构改善的主目标,宜昌分公司决定组织开展公众市场三季度营销活动，具体内容如下：', '一、活动时间2024年7月1日-2024年9月30日二、营销目标全市移网发展7万户，移网净增9534户；宽带发展1.86万户，宽带净增10625户；129元及以上实收高套发展7360户，FTTR发展4600户，奋力实现三季度收入预算完成率75%。', '三、营销部署（一）市场策略1.发展侧', '联通宜昌营销字〔2024〕31号 关于开展公众市场三季度营销活动的通知各区县分公司：', '三季度是全年承上启下的关键节点，锁定三季度主营收入增长、用户规模净增、发展结构改善的主目标,宜昌分公司决定组织开展公众市场三季度营销活动，具体内容如下：', '一、活动时间2024年7月1日-2024年9月30日二、营销目标全市移网发展7万户，移网净增9534户；宽带发展1.86万户，宽带净增10625户；129元及以上实收高套发展7360户，FTTR发展4600户，奋力实现三季度收入预算完成率75%。', '三、营销部署（一）市场策略1.发展侧', '联通宜昌营销字〔2024〕31号 关于开展公众市场三季度营销活动的通知各区县分公司：', '三季度是全年承上启下的关键节点，锁定三季度主营收入增长、用户规模净增、发展结构改善的主目标,宜昌分公司决定组织开展公众市场三季度营销活动，具体内容如下：', '一、活动时间2024年7月1日-2024年9月30日二、营销目标全市移网发展7万户，移网净增9534户；宽带发展1.86万户，宽带净增10625户；129元及以上实收高套发展7360户，FTTR发展4600户，奋力实现三季度收入预算完成率75%。', '三、营销部署（一）市场策略1.发展侧', '联通宜昌营销字〔2024〕31号 关于开展公众市场三季度营销活动的通知各区县分公司：', '三季度是全年承上启下的关键节点，锁定三季度主营收入增长、用户规模净增、发展结构改善的主目标,宜昌分公司决定组织开展公众市场三季度营销活动，具体内容如下：', '一、活动时间2024年7月1日-2024年9月30日二、营销目标全市移网发展7万户，移网净增9534户；宽带发展1.86万户，宽带净增10625户；129元及以上实收高套发展7360户，FTTR发展4600户，奋力实现三季度收入预算完成率75%。', '三、营销部署（一）市场策略1.发展侧', '联通宜昌营销字〔2024〕31号 关于开展公众市场三季度营销活动的通知各区县分公司：', '三季度是全年承上启下的关键节点，锁定三季度主营收入增长、用户规模净增、发展结构改善的主目标,宜昌分公司决定组织开展公众市场三季度营销活动，具体内容如下：', '一、活动时间2024年7月1日-2024年9月30日二、营销目标全市移网发展7万户，移网净增9534户；宽带发展1.86万户，宽带净增10625户；129元及以上实收高套发展7360户，FTTR发展4600户，奋力实现三季度收入预算完成率75%。', '三、营销部署（一）市场策略1.发展侧']\n",
      "给定的信息中没有明确提到三季度营销活动的具体时间。通常情况下，三季度指的是7月到9月这段时间。如果需要确切的时间安排，建议直接联系宜昌分公司或关注其官方发布的信息。\n"
     ]
    }
   ],
   "source": [
    "vector_db = vector_db_handler('demo',get_embeddings)\n",
    "vector_db.add_documents(pdf_segment(text_line,min_line_length=10))\n",
    "\n",
    "class RAGchat:\n",
    "  def __init__(self,vector_db,llm_api,n_result=3):\n",
    "    self.vector_db = vector_db\n",
    "    self.llm_api = llm_api\n",
    "    self.n_result = n_result\n",
    "  def chat(self,query_text):\n",
    "    result = self.vector_db.query_documents(query_text,self.n_result)\n",
    "    prompt = build_prompt(prompt_template,context=result['documents'][0],query=[query_text])\n",
    "    return self.llm_api(prompt)\n",
    "    \n",
    "\n",
    "rag_instance = RAGchat(vector_db,get_completion,3)\n",
    "\n",
    "query = \"三季度营销活动的时间是什么？\"\n",
    "\n",
    "result = rag_instance.chat(query)\n",
    "print(result)"
   ]
  }
 ],
 "metadata": {
  "kernelspec": {
   "display_name": "llm",
   "language": "python",
   "name": "python3"
  },
  "language_info": {
   "codemirror_mode": {
    "name": "ipython",
    "version": 3
   },
   "file_extension": ".py",
   "mimetype": "text/x-python",
   "name": "python",
   "nbconvert_exporter": "python",
   "pygments_lexer": "ipython3",
   "version": "3.11.5"
  }
 },
 "nbformat": 4,
 "nbformat_minor": 2
}
